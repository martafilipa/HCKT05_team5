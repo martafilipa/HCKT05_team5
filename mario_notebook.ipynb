{
 "cells": [
  {
   "cell_type": "markdown",
   "metadata": {},
   "source": [
    "# Simplified Pipeline\n",
    "\n",
    "The following cells provide a simplified template of the steps used on part 1 of the BLU12 Learning Notebook. These steps are not the only way to get a RS up and running and we encourage you to tweak them as you see fit."
   ]
  },
  {
   "cell_type": "code",
   "execution_count": 1,
   "metadata": {},
   "outputs": [],
   "source": [
    "# Import the necessary dependencies\n",
    "\n",
    "# Operating System\n",
    "import os\n",
    "import gc\n",
    "\n",
    "# Numpy, Pandas and Scipy\n",
    "import numpy as np\n",
    "import pandas as pd\n",
    "import json\n",
    "\n",
    "# Scikit-learn\n",
    "from sklearn.model_selection import train_test_split\n",
    "from sklearn.preprocessing import StandardScaler\n",
    "\n",
    "# LightFM\n",
    "from lightfm import LightFM\n",
    "from lightfm.data import Dataset as lfmDataset \n",
    "\n",
    "# Surprise\n",
    "from surprise import SVD\n",
    "from surprise import Dataset as sDataset\n",
    "from surprise import Reader\n",
    "\n",
    "# Model Evaluation\n",
    "from evaluation import evaluate_solution\n",
    "\n",
    "# RAM control\n",
    "from ramcontrol import check_memory_limit, memory_circuit_breaker"
   ]
  },
  {
   "cell_type": "code",
   "execution_count": 2,
   "metadata": {},
   "outputs": [],
   "source": [
    "# limit of total memory percentage that be used [0.,100.]\n",
    "memory_limit_perc = 70."
   ]
  },
  {
   "cell_type": "markdown",
   "metadata": {},
   "source": [
    "## Understanding the data\n",
    "\n",
    "- The dataset that you selected is appropriated for building a RS?\n",
    "- Do you have data regarding the items or only about the users' preference?\n",
    "- Do you have a test dataset or do you have to create it?"
   ]
  },
  {
   "cell_type": "code",
   "execution_count": 3,
   "metadata": {},
   "outputs": [
    {
     "name": "stdout",
     "output_type": "stream",
     "text": [
      "beer_id,beer_name,brewer_id,beer_abv,beer_style\n",
      "63836,John Harvards Simcoe IPA,8481,5.4,India Pale Ale &#40;IPA&#41;\n",
      "71716,John Harvards Cristal Pilsner,8481,5,Bohemian Pilsener\n",
      "64125,John Harvards Fancy Lawnmower Beer,8481,5.4,Klsch\n",
      "31544,John Harvards Vanilla Black Velvet Stout,8481,-,Sweet Stout\n"
     ]
    }
   ],
   "source": [
    "! head -5 data/data/beer_metadata.csv"
   ]
  },
  {
   "cell_type": "code",
   "execution_count": 4,
   "metadata": {
    "tags": []
   },
   "outputs": [
    {
     "name": "stdout",
     "output_type": "stream",
     "text": [
      "user_name\n",
      "wlajwl\n",
      "BigBang\n",
      "GhostFace\n",
      "sbanach\n"
     ]
    }
   ],
   "source": [
    "! head -5 data/data/test_users.csv"
   ]
  },
  {
   "cell_type": "code",
   "execution_count": 5,
   "metadata": {
    "tags": []
   },
   "outputs": [
    {
     "name": "stdout",
     "output_type": "stream",
     "text": [
      "beer_id,user_name,review_score,review_time\n",
      "63836,hopdog,13/20,1157587200\n",
      "63836,TomDecapolis,13/20,1157241600\n",
      "71716,PhillyBeer2112,14/20,958694400\n",
      "64125,TomDecapolis,8/20,1157587200\n"
     ]
    }
   ],
   "source": [
    "! head -5 data/data/train_ratings.csv"
   ]
  },
  {
   "cell_type": "markdown",
   "metadata": {},
   "source": [
    "## Load the Data"
   ]
  },
  {
   "cell_type": "code",
   "execution_count": 3,
   "metadata": {},
   "outputs": [
    {
     "name": "stderr",
     "output_type": "stream",
     "text": [
      "/tmp/ipykernel_33518/122761860.py:1: DtypeWarning: Columns (0) have mixed types. Specify dtype option on import or set low_memory=False.\n",
      "  train_ratings = pd.read_csv('data/data/train_ratings.csv')\n"
     ]
    },
    {
     "data": {
      "text/html": [
       "<div>\n",
       "<style scoped>\n",
       "    .dataframe tbody tr th:only-of-type {\n",
       "        vertical-align: middle;\n",
       "    }\n",
       "\n",
       "    .dataframe tbody tr th {\n",
       "        vertical-align: top;\n",
       "    }\n",
       "\n",
       "    .dataframe thead th {\n",
       "        text-align: right;\n",
       "    }\n",
       "</style>\n",
       "<table border=\"1\" class=\"dataframe\">\n",
       "  <thead>\n",
       "    <tr style=\"text-align: right;\">\n",
       "      <th></th>\n",
       "      <th>beer_id</th>\n",
       "      <th>user_name</th>\n",
       "      <th>review_score</th>\n",
       "      <th>review_time</th>\n",
       "    </tr>\n",
       "  </thead>\n",
       "  <tbody>\n",
       "    <tr>\n",
       "      <th>0</th>\n",
       "      <td>63836</td>\n",
       "      <td>hopdog</td>\n",
       "      <td>13/20</td>\n",
       "      <td>1157587200</td>\n",
       "    </tr>\n",
       "    <tr>\n",
       "      <th>1</th>\n",
       "      <td>63836</td>\n",
       "      <td>TomDecapolis</td>\n",
       "      <td>13/20</td>\n",
       "      <td>1157241600</td>\n",
       "    </tr>\n",
       "    <tr>\n",
       "      <th>2</th>\n",
       "      <td>71716</td>\n",
       "      <td>PhillyBeer2112</td>\n",
       "      <td>14/20</td>\n",
       "      <td>958694400</td>\n",
       "    </tr>\n",
       "    <tr>\n",
       "      <th>3</th>\n",
       "      <td>64125</td>\n",
       "      <td>TomDecapolis</td>\n",
       "      <td>8/20</td>\n",
       "      <td>1157587200</td>\n",
       "    </tr>\n",
       "    <tr>\n",
       "      <th>4</th>\n",
       "      <td>64125</td>\n",
       "      <td>hopdog</td>\n",
       "      <td>8/20</td>\n",
       "      <td>1157587200</td>\n",
       "    </tr>\n",
       "    <tr>\n",
       "      <th>...</th>\n",
       "      <td>...</td>\n",
       "      <td>...</td>\n",
       "      <td>...</td>\n",
       "      <td>...</td>\n",
       "    </tr>\n",
       "    <tr>\n",
       "      <th>2838369</th>\n",
       "      <td>98518</td>\n",
       "      <td>Snojerk321</td>\n",
       "      <td>11/20</td>\n",
       "      <td>1233964800</td>\n",
       "    </tr>\n",
       "    <tr>\n",
       "      <th>2838370</th>\n",
       "      <td>98518</td>\n",
       "      <td>troopie</td>\n",
       "      <td>13/20</td>\n",
       "      <td>1233446400</td>\n",
       "    </tr>\n",
       "    <tr>\n",
       "      <th>2838371</th>\n",
       "      <td>98518</td>\n",
       "      <td>Reid</td>\n",
       "      <td>14/20</td>\n",
       "      <td>1233360000</td>\n",
       "    </tr>\n",
       "    <tr>\n",
       "      <th>2838372</th>\n",
       "      <td>98518</td>\n",
       "      <td>boFNjackson</td>\n",
       "      <td>14/20</td>\n",
       "      <td>1233100800</td>\n",
       "    </tr>\n",
       "    <tr>\n",
       "      <th>2838373</th>\n",
       "      <td>98914</td>\n",
       "      <td>boFNjackson</td>\n",
       "      <td>15/20</td>\n",
       "      <td>1233964800</td>\n",
       "    </tr>\n",
       "  </tbody>\n",
       "</table>\n",
       "<p>2838374 rows × 4 columns</p>\n",
       "</div>"
      ],
      "text/plain": [
       "        beer_id       user_name review_score  review_time\n",
       "0         63836          hopdog        13/20   1157587200\n",
       "1         63836    TomDecapolis        13/20   1157241600\n",
       "2         71716  PhillyBeer2112        14/20    958694400\n",
       "3         64125    TomDecapolis         8/20   1157587200\n",
       "4         64125          hopdog         8/20   1157587200\n",
       "...         ...             ...          ...          ...\n",
       "2838369   98518      Snojerk321        11/20   1233964800\n",
       "2838370   98518         troopie        13/20   1233446400\n",
       "2838371   98518            Reid        14/20   1233360000\n",
       "2838372   98518     boFNjackson        14/20   1233100800\n",
       "2838373   98914     boFNjackson        15/20   1233964800\n",
       "\n",
       "[2838374 rows x 4 columns]"
      ]
     },
     "execution_count": 3,
     "metadata": {},
     "output_type": "execute_result"
    }
   ],
   "source": [
    "train_ratings = pd.read_csv('data/data/train_ratings.csv')\n",
    "train_ratings"
   ]
  },
  {
   "cell_type": "code",
   "execution_count": 4,
   "metadata": {
    "tags": []
   },
   "outputs": [
    {
     "data": {
      "text/plain": [
       "array(['13/20', '14/20', '8/20', '16/20', '12/20', '17/20', '11/20',\n",
       "       '9/20', '15/20', '10/20', '20/20', '6/20', '5/20', '7/20', '18/20',\n",
       "       '19/20', '4/20', '2/20', '3/20', '1/20'], dtype=object)"
      ]
     },
     "execution_count": 4,
     "metadata": {},
     "output_type": "execute_result"
    }
   ],
   "source": [
    "train_ratings.review_score.unique()"
   ]
  },
  {
   "cell_type": "code",
   "execution_count": 5,
   "metadata": {
    "tags": []
   },
   "outputs": [
    {
     "data": {
      "text/html": [
       "<div>\n",
       "<style scoped>\n",
       "    .dataframe tbody tr th:only-of-type {\n",
       "        vertical-align: middle;\n",
       "    }\n",
       "\n",
       "    .dataframe tbody tr th {\n",
       "        vertical-align: top;\n",
       "    }\n",
       "\n",
       "    .dataframe thead th {\n",
       "        text-align: right;\n",
       "    }\n",
       "</style>\n",
       "<table border=\"1\" class=\"dataframe\">\n",
       "  <thead>\n",
       "    <tr style=\"text-align: right;\">\n",
       "      <th></th>\n",
       "      <th>beer_id</th>\n",
       "      <th>user_name</th>\n",
       "      <th>review_score</th>\n",
       "      <th>review_time</th>\n",
       "    </tr>\n",
       "  </thead>\n",
       "  <tbody>\n",
       "    <tr>\n",
       "      <th>0</th>\n",
       "      <td>63836</td>\n",
       "      <td>hopdog</td>\n",
       "      <td>13</td>\n",
       "      <td>2006-09-07</td>\n",
       "    </tr>\n",
       "    <tr>\n",
       "      <th>1</th>\n",
       "      <td>63836</td>\n",
       "      <td>TomDecapolis</td>\n",
       "      <td>13</td>\n",
       "      <td>2006-09-03</td>\n",
       "    </tr>\n",
       "    <tr>\n",
       "      <th>2</th>\n",
       "      <td>71716</td>\n",
       "      <td>PhillyBeer2112</td>\n",
       "      <td>14</td>\n",
       "      <td>2000-05-19</td>\n",
       "    </tr>\n",
       "    <tr>\n",
       "      <th>3</th>\n",
       "      <td>64125</td>\n",
       "      <td>TomDecapolis</td>\n",
       "      <td>8</td>\n",
       "      <td>2006-09-07</td>\n",
       "    </tr>\n",
       "    <tr>\n",
       "      <th>4</th>\n",
       "      <td>64125</td>\n",
       "      <td>hopdog</td>\n",
       "      <td>8</td>\n",
       "      <td>2006-09-07</td>\n",
       "    </tr>\n",
       "    <tr>\n",
       "      <th>...</th>\n",
       "      <td>...</td>\n",
       "      <td>...</td>\n",
       "      <td>...</td>\n",
       "      <td>...</td>\n",
       "    </tr>\n",
       "    <tr>\n",
       "      <th>2838369</th>\n",
       "      <td>98518</td>\n",
       "      <td>Snojerk321</td>\n",
       "      <td>11</td>\n",
       "      <td>2009-02-07</td>\n",
       "    </tr>\n",
       "    <tr>\n",
       "      <th>2838370</th>\n",
       "      <td>98518</td>\n",
       "      <td>troopie</td>\n",
       "      <td>13</td>\n",
       "      <td>2009-02-01</td>\n",
       "    </tr>\n",
       "    <tr>\n",
       "      <th>2838371</th>\n",
       "      <td>98518</td>\n",
       "      <td>Reid</td>\n",
       "      <td>14</td>\n",
       "      <td>2009-01-31</td>\n",
       "    </tr>\n",
       "    <tr>\n",
       "      <th>2838372</th>\n",
       "      <td>98518</td>\n",
       "      <td>boFNjackson</td>\n",
       "      <td>14</td>\n",
       "      <td>2009-01-28</td>\n",
       "    </tr>\n",
       "    <tr>\n",
       "      <th>2838373</th>\n",
       "      <td>98914</td>\n",
       "      <td>boFNjackson</td>\n",
       "      <td>15</td>\n",
       "      <td>2009-02-07</td>\n",
       "    </tr>\n",
       "  </tbody>\n",
       "</table>\n",
       "<p>2838374 rows × 4 columns</p>\n",
       "</div>"
      ],
      "text/plain": [
       "        beer_id       user_name  review_score review_time\n",
       "0         63836          hopdog            13  2006-09-07\n",
       "1         63836    TomDecapolis            13  2006-09-03\n",
       "2         71716  PhillyBeer2112            14  2000-05-19\n",
       "3         64125    TomDecapolis             8  2006-09-07\n",
       "4         64125          hopdog             8  2006-09-07\n",
       "...         ...             ...           ...         ...\n",
       "2838369   98518      Snojerk321            11  2009-02-07\n",
       "2838370   98518         troopie            13  2009-02-01\n",
       "2838371   98518            Reid            14  2009-01-31\n",
       "2838372   98518     boFNjackson            14  2009-01-28\n",
       "2838373   98914     boFNjackson            15  2009-02-07\n",
       "\n",
       "[2838374 rows x 4 columns]"
      ]
     },
     "execution_count": 5,
     "metadata": {},
     "output_type": "execute_result"
    }
   ],
   "source": [
    "train_ratings.review_score = train_ratings.review_score.str.split('/', expand=True)[0]\n",
    "train_ratings.review_score = train_ratings.review_score.apply(int)\n",
    "train_ratings.review_time = pd.to_datetime(train_ratings.review_time, unit='s')\n",
    "train_ratings"
   ]
  },
  {
   "cell_type": "code",
   "execution_count": 6,
   "metadata": {
    "tags": []
   },
   "outputs": [
    {
     "name": "stderr",
     "output_type": "stream",
     "text": [
      "/tmp/ipykernel_33518/1213118883.py:3: SettingWithCopyWarning: \n",
      "A value is trying to be set on a copy of a slice from a DataFrame.\n",
      "Try using .loc[row_indexer,col_indexer] = value instead\n",
      "\n",
      "See the caveats in the documentation: https://pandas.pydata.org/pandas-docs/stable/user_guide/indexing.html#returning-a-view-versus-a-copy\n",
      "  train_ratings.beer_id = train_ratings.beer_id.apply(int)\n"
     ]
    },
    {
     "data": {
      "text/html": [
       "<div>\n",
       "<style scoped>\n",
       "    .dataframe tbody tr th:only-of-type {\n",
       "        vertical-align: middle;\n",
       "    }\n",
       "\n",
       "    .dataframe tbody tr th {\n",
       "        vertical-align: top;\n",
       "    }\n",
       "\n",
       "    .dataframe thead th {\n",
       "        text-align: right;\n",
       "    }\n",
       "</style>\n",
       "<table border=\"1\" class=\"dataframe\">\n",
       "  <thead>\n",
       "    <tr style=\"text-align: right;\">\n",
       "      <th></th>\n",
       "      <th>beer_id</th>\n",
       "      <th>user_name</th>\n",
       "      <th>review_score</th>\n",
       "      <th>review_time</th>\n",
       "    </tr>\n",
       "  </thead>\n",
       "  <tbody>\n",
       "    <tr>\n",
       "      <th>0</th>\n",
       "      <td>63836</td>\n",
       "      <td>hopdog</td>\n",
       "      <td>13</td>\n",
       "      <td>2006-09-07</td>\n",
       "    </tr>\n",
       "    <tr>\n",
       "      <th>1</th>\n",
       "      <td>63836</td>\n",
       "      <td>TomDecapolis</td>\n",
       "      <td>13</td>\n",
       "      <td>2006-09-03</td>\n",
       "    </tr>\n",
       "    <tr>\n",
       "      <th>2</th>\n",
       "      <td>71716</td>\n",
       "      <td>PhillyBeer2112</td>\n",
       "      <td>14</td>\n",
       "      <td>2000-05-19</td>\n",
       "    </tr>\n",
       "    <tr>\n",
       "      <th>3</th>\n",
       "      <td>64125</td>\n",
       "      <td>TomDecapolis</td>\n",
       "      <td>8</td>\n",
       "      <td>2006-09-07</td>\n",
       "    </tr>\n",
       "    <tr>\n",
       "      <th>4</th>\n",
       "      <td>64125</td>\n",
       "      <td>hopdog</td>\n",
       "      <td>8</td>\n",
       "      <td>2006-09-07</td>\n",
       "    </tr>\n",
       "  </tbody>\n",
       "</table>\n",
       "</div>"
      ],
      "text/plain": [
       "   beer_id       user_name  review_score review_time\n",
       "0    63836          hopdog            13  2006-09-07\n",
       "1    63836    TomDecapolis            13  2006-09-03\n",
       "2    71716  PhillyBeer2112            14  2000-05-19\n",
       "3    64125    TomDecapolis             8  2006-09-07\n",
       "4    64125          hopdog             8  2006-09-07"
      ]
     },
     "execution_count": 6,
     "metadata": {},
     "output_type": "execute_result"
    }
   ],
   "source": [
    "train_ratings.beer_id = pd.to_numeric(train_ratings.beer_id, errors='coerce')\n",
    "train_ratings = train_ratings.dropna()\n",
    "train_ratings.beer_id = train_ratings.beer_id.apply(int)\n",
    "train_ratings.head()\n"
   ]
  },
  {
   "cell_type": "code",
   "execution_count": 7,
   "metadata": {
    "tags": []
   },
   "outputs": [
    {
     "name": "stdout",
     "output_type": "stream",
     "text": [
      "<class 'pandas.core.frame.DataFrame'>\n",
      "Int64Index: 2838334 entries, 0 to 2838373\n",
      "Data columns (total 4 columns):\n",
      " #   Column        Dtype         \n",
      "---  ------        -----         \n",
      " 0   beer_id       int64         \n",
      " 1   user_name     object        \n",
      " 2   review_score  int64         \n",
      " 3   review_time   datetime64[ns]\n",
      "dtypes: datetime64[ns](1), int64(2), object(1)\n",
      "memory usage: 108.3+ MB\n"
     ]
    }
   ],
   "source": [
    "train_ratings.info()"
   ]
  },
  {
   "cell_type": "code",
   "execution_count": 12,
   "metadata": {
    "tags": []
   },
   "outputs": [
    {
     "data": {
      "text/plain": [
       "<AxesSubplot:>"
      ]
     },
     "execution_count": 12,
     "metadata": {},
     "output_type": "execute_result"
    },
    {
     "data": {
      "image/png": "[encoded data removed]",
      "text/plain": [
       "<Figure size 640x480 with 1 Axes>"
      ]
     },
     "metadata": {},
     "output_type": "display_data"
    }
   ],
   "source": [
    "train_ratings.review_score.hist()"
   ]
  },
  {
   "cell_type": "code",
   "execution_count": 105,
   "metadata": {
    "tags": []
   },
   "outputs": [
    {
     "data": {
      "text/plain": [
       "1      15566\n",
       "2      14250\n",
       "3      17683\n",
       "4      21700\n",
       "5      31021\n",
       "6      35984\n",
       "7      47153\n",
       "8      72652\n",
       "9      81465\n",
       "10    154083\n",
       "11    170251\n",
       "12    291325\n",
       "13    348945\n",
       "14    421223\n",
       "15    411208\n",
       "16    327822\n",
       "17    215218\n",
       "18    112962\n",
       "19     34473\n",
       "20     13350\n",
       "Name: review_score, dtype: int64"
      ]
     },
     "execution_count": 105,
     "metadata": {},
     "output_type": "execute_result"
    }
   ],
   "source": [
    "train_ratings.review_score.value_counts().sort_index()"
   ]
  },
  {
   "cell_type": "code",
   "execution_count": 106,
   "metadata": {
    "tags": []
   },
   "outputs": [
    {
     "data": {
      "text/plain": [
       "beer_id         0\n",
       "user_name       0\n",
       "review_score    0\n",
       "review_time     0\n",
       "dtype: int64"
      ]
     },
     "execution_count": 106,
     "metadata": {},
     "output_type": "execute_result"
    }
   ],
   "source": [
    "train_ratings.isnull().sum()"
   ]
  },
  {
   "cell_type": "code",
   "execution_count": 107,
   "metadata": {
    "tags": []
   },
   "outputs": [
    {
     "name": "stdout",
     "output_type": "stream",
     "text": [
      "How many unique users: 29027\n"
     ]
    }
   ],
   "source": [
    "print('How many unique users:', train_ratings.user_name.nunique())"
   ]
  },
  {
   "cell_type": "code",
   "execution_count": 8,
   "metadata": {
    "tags": []
   },
   "outputs": [
    {
     "data": {
      "text/html": [
       "<div>\n",
       "<style scoped>\n",
       "    .dataframe tbody tr th:only-of-type {\n",
       "        vertical-align: middle;\n",
       "    }\n",
       "\n",
       "    .dataframe tbody tr th {\n",
       "        vertical-align: top;\n",
       "    }\n",
       "\n",
       "    .dataframe thead th {\n",
       "        text-align: right;\n",
       "    }\n",
       "</style>\n",
       "<table border=\"1\" class=\"dataframe\">\n",
       "  <thead>\n",
       "    <tr style=\"text-align: right;\">\n",
       "      <th></th>\n",
       "      <th>beer_id</th>\n",
       "      <th>beer_name</th>\n",
       "      <th>brewer_id</th>\n",
       "      <th>beer_abv</th>\n",
       "      <th>beer_style</th>\n",
       "    </tr>\n",
       "  </thead>\n",
       "  <tbody>\n",
       "    <tr>\n",
       "      <th>0</th>\n",
       "      <td>63836</td>\n",
       "      <td>John Harvards Simcoe IPA</td>\n",
       "      <td>8481</td>\n",
       "      <td>5.4</td>\n",
       "      <td>India Pale Ale &amp;#40;IPA&amp;#41;</td>\n",
       "    </tr>\n",
       "    <tr>\n",
       "      <th>1</th>\n",
       "      <td>71716</td>\n",
       "      <td>John Harvards Cristal Pilsner</td>\n",
       "      <td>8481</td>\n",
       "      <td>5</td>\n",
       "      <td>Bohemian Pilsener</td>\n",
       "    </tr>\n",
       "    <tr>\n",
       "      <th>2</th>\n",
       "      <td>64125</td>\n",
       "      <td>John Harvards Fancy Lawnmower Beer</td>\n",
       "      <td>8481</td>\n",
       "      <td>5.4</td>\n",
       "      <td>Klsch</td>\n",
       "    </tr>\n",
       "    <tr>\n",
       "      <th>3</th>\n",
       "      <td>31544</td>\n",
       "      <td>John Harvards Vanilla Black Velvet Stout</td>\n",
       "      <td>8481</td>\n",
       "      <td>-</td>\n",
       "      <td>Sweet Stout</td>\n",
       "    </tr>\n",
       "    <tr>\n",
       "      <th>4</th>\n",
       "      <td>71714</td>\n",
       "      <td>John Harvards American Brown Ale</td>\n",
       "      <td>8481</td>\n",
       "      <td>-</td>\n",
       "      <td>Brown Ale</td>\n",
       "    </tr>\n",
       "    <tr>\n",
       "      <th>...</th>\n",
       "      <td>...</td>\n",
       "      <td>...</td>\n",
       "      <td>...</td>\n",
       "      <td>...</td>\n",
       "      <td>...</td>\n",
       "    </tr>\n",
       "    <tr>\n",
       "      <th>112045</th>\n",
       "      <td>958</td>\n",
       "      <td>Pyramid Best Brown</td>\n",
       "      <td>154</td>\n",
       "      <td>5.1</td>\n",
       "      <td>Brown Ale</td>\n",
       "    </tr>\n",
       "    <tr>\n",
       "      <th>112046</th>\n",
       "      <td>959</td>\n",
       "      <td>Pyramid Espresso Stout</td>\n",
       "      <td>154</td>\n",
       "      <td>-</td>\n",
       "      <td>Sweet Stout</td>\n",
       "    </tr>\n",
       "    <tr>\n",
       "      <th>112047</th>\n",
       "      <td>98518</td>\n",
       "      <td>Pyramid Rollick Amber Lager</td>\n",
       "      <td>154</td>\n",
       "      <td>6</td>\n",
       "      <td>Amber Ale</td>\n",
       "    </tr>\n",
       "    <tr>\n",
       "      <th>112048</th>\n",
       "      <td>98914</td>\n",
       "      <td>Pyramid Snow Cap&amp;#40;&amp;#8217;n &amp; Tennille&amp;#41;</td>\n",
       "      <td>154</td>\n",
       "      <td>7</td>\n",
       "      <td>English Strong Ale</td>\n",
       "    </tr>\n",
       "    <tr>\n",
       "      <th>112049</th>\n",
       "      <td>29160</td>\n",
       "      <td>Buffalo Bills Orange Blossom Cream Ale</td>\n",
       "      <td>154</td>\n",
       "      <td>5.2</td>\n",
       "      <td>Fruit Beer</td>\n",
       "    </tr>\n",
       "  </tbody>\n",
       "</table>\n",
       "<p>112050 rows × 5 columns</p>\n",
       "</div>"
      ],
      "text/plain": [
       "       beer_id                                      beer_name  brewer_id  \\\n",
       "0        63836                       John Harvards Simcoe IPA       8481   \n",
       "1        71716                  John Harvards Cristal Pilsner       8481   \n",
       "2        64125             John Harvards Fancy Lawnmower Beer       8481   \n",
       "3        31544       John Harvards Vanilla Black Velvet Stout       8481   \n",
       "4        71714               John Harvards American Brown Ale       8481   \n",
       "...        ...                                            ...        ...   \n",
       "112045     958                             Pyramid Best Brown        154   \n",
       "112046     959                         Pyramid Espresso Stout        154   \n",
       "112047   98518                    Pyramid Rollick Amber Lager        154   \n",
       "112048   98914  Pyramid Snow Cap&#40;&#8217;n & Tennille&#41;        154   \n",
       "112049   29160         Buffalo Bills Orange Blossom Cream Ale        154   \n",
       "\n",
       "       beer_abv                    beer_style  \n",
       "0           5.4  India Pale Ale &#40;IPA&#41;  \n",
       "1             5             Bohemian Pilsener  \n",
       "2           5.4                         Klsch  \n",
       "3             -                   Sweet Stout  \n",
       "4             -                     Brown Ale  \n",
       "...         ...                           ...  \n",
       "112045      5.1                     Brown Ale  \n",
       "112046        -                   Sweet Stout  \n",
       "112047        6                     Amber Ale  \n",
       "112048        7            English Strong Ale  \n",
       "112049      5.2                    Fruit Beer  \n",
       "\n",
       "[112050 rows x 5 columns]"
      ]
     },
     "execution_count": 8,
     "metadata": {},
     "output_type": "execute_result"
    }
   ],
   "source": [
    "beers = pd.read_csv('data/data/beer_metadata.csv')\n",
    "beers"
   ]
  },
  {
   "cell_type": "code",
   "execution_count": 14,
   "metadata": {
    "tags": []
   },
   "outputs": [
    {
     "data": {
      "text/plain": [
       "110254"
      ]
     },
     "execution_count": 14,
     "metadata": {},
     "output_type": "execute_result"
    }
   ],
   "source": [
    "beers.beer_id.nunique()"
   ]
  },
  {
   "cell_type": "code",
   "execution_count": 15,
   "metadata": {
    "tags": []
   },
   "outputs": [
    {
     "data": {
      "text/plain": [
       "1796"
      ]
     },
     "execution_count": 15,
     "metadata": {},
     "output_type": "execute_result"
    }
   ],
   "source": [
    "beers.beer_id.duplicated().sum()"
   ]
  },
  {
   "cell_type": "code",
   "execution_count": 16,
   "metadata": {
    "tags": []
   },
   "outputs": [
    {
     "data": {
      "text/html": [
       "<div>\n",
       "<style scoped>\n",
       "    .dataframe tbody tr th:only-of-type {\n",
       "        vertical-align: middle;\n",
       "    }\n",
       "\n",
       "    .dataframe tbody tr th {\n",
       "        vertical-align: top;\n",
       "    }\n",
       "\n",
       "    .dataframe thead th {\n",
       "        text-align: right;\n",
       "    }\n",
       "</style>\n",
       "<table border=\"1\" class=\"dataframe\">\n",
       "  <thead>\n",
       "    <tr style=\"text-align: right;\">\n",
       "      <th></th>\n",
       "      <th>beer_id</th>\n",
       "      <th>beer_name</th>\n",
       "      <th>brewer_id</th>\n",
       "      <th>beer_abv</th>\n",
       "      <th>beer_style</th>\n",
       "    </tr>\n",
       "  </thead>\n",
       "  <tbody>\n",
       "    <tr>\n",
       "      <th>46914</th>\n",
       "      <td>100023</td>\n",
       "      <td>21st Amendment Monks Blood</td>\n",
       "      <td>1391</td>\n",
       "      <td>8.3</td>\n",
       "      <td>Belgian Strong Ale</td>\n",
       "    </tr>\n",
       "    <tr>\n",
       "      <th>37198</th>\n",
       "      <td>100023</td>\n",
       "      <td>21st Amendment Monks Blood</td>\n",
       "      <td>1306</td>\n",
       "      <td>8.3</td>\n",
       "      <td>Belgian Strong Ale</td>\n",
       "    </tr>\n",
       "    <tr>\n",
       "      <th>84383</th>\n",
       "      <td>10008</td>\n",
       "      <td>Gulpener Gallius</td>\n",
       "      <td>674</td>\n",
       "      <td>8</td>\n",
       "      <td>Strong Pale Lager/Imperial Pils</td>\n",
       "    </tr>\n",
       "    <tr>\n",
       "      <th>66310</th>\n",
       "      <td>10008</td>\n",
       "      <td>Gulpener Gallius</td>\n",
       "      <td>114</td>\n",
       "      <td>8</td>\n",
       "      <td>Strong Pale Lager/Imperial Pils</td>\n",
       "    </tr>\n",
       "    <tr>\n",
       "      <th>6189</th>\n",
       "      <td>10019</td>\n",
       "      <td>Tetleys Cask Bitter</td>\n",
       "      <td>4869</td>\n",
       "      <td>3.7</td>\n",
       "      <td>Bitter</td>\n",
       "    </tr>\n",
       "    <tr>\n",
       "      <th>...</th>\n",
       "      <td>...</td>\n",
       "      <td>...</td>\n",
       "      <td>...</td>\n",
       "      <td>...</td>\n",
       "      <td>...</td>\n",
       "    </tr>\n",
       "    <tr>\n",
       "      <th>88815</th>\n",
       "      <td>99485</td>\n",
       "      <td>Vices et Versa Hefeweizen</td>\n",
       "      <td>10244</td>\n",
       "      <td>-</td>\n",
       "      <td>German Hefeweizen</td>\n",
       "    </tr>\n",
       "    <tr>\n",
       "      <th>71638</th>\n",
       "      <td>99704</td>\n",
       "      <td>Briar Creek Towhead Ale</td>\n",
       "      <td>886</td>\n",
       "      <td>-</td>\n",
       "      <td>Golden Ale/Blond Ale</td>\n",
       "    </tr>\n",
       "    <tr>\n",
       "      <th>1802</th>\n",
       "      <td>99704</td>\n",
       "      <td>Briar Creek Towhead Ale</td>\n",
       "      <td>10256</td>\n",
       "      <td>-</td>\n",
       "      <td>Golden Ale/Blond Ale</td>\n",
       "    </tr>\n",
       "    <tr>\n",
       "      <th>72893</th>\n",
       "      <td>99791</td>\n",
       "      <td>Blowing Rock Bock Lager</td>\n",
       "      <td>11031</td>\n",
       "      <td>-</td>\n",
       "      <td>Heller Bock</td>\n",
       "    </tr>\n",
       "    <tr>\n",
       "      <th>81265</th>\n",
       "      <td>99791</td>\n",
       "      <td>Blowing Rock Bock Lager</td>\n",
       "      <td>226</td>\n",
       "      <td>-</td>\n",
       "      <td>Heller Bock</td>\n",
       "    </tr>\n",
       "  </tbody>\n",
       "</table>\n",
       "<p>3592 rows × 5 columns</p>\n",
       "</div>"
      ],
      "text/plain": [
       "      beer_id                   beer_name  brewer_id beer_abv  \\\n",
       "46914  100023  21st Amendment Monks Blood       1391      8.3   \n",
       "37198  100023  21st Amendment Monks Blood       1306      8.3   \n",
       "84383   10008            Gulpener Gallius        674        8   \n",
       "66310   10008            Gulpener Gallius        114        8   \n",
       "6189    10019         Tetleys Cask Bitter       4869      3.7   \n",
       "...       ...                         ...        ...      ...   \n",
       "88815   99485   Vices et Versa Hefeweizen      10244        -   \n",
       "71638   99704     Briar Creek Towhead Ale        886        -   \n",
       "1802    99704     Briar Creek Towhead Ale      10256        -   \n",
       "72893   99791     Blowing Rock Bock Lager      11031        -   \n",
       "81265   99791     Blowing Rock Bock Lager        226        -   \n",
       "\n",
       "                            beer_style  \n",
       "46914               Belgian Strong Ale  \n",
       "37198               Belgian Strong Ale  \n",
       "84383  Strong Pale Lager/Imperial Pils  \n",
       "66310  Strong Pale Lager/Imperial Pils  \n",
       "6189                            Bitter  \n",
       "...                                ...  \n",
       "88815                German Hefeweizen  \n",
       "71638             Golden Ale/Blond Ale  \n",
       "1802              Golden Ale/Blond Ale  \n",
       "72893                      Heller Bock  \n",
       "81265                      Heller Bock  \n",
       "\n",
       "[3592 rows x 5 columns]"
      ]
     },
     "execution_count": 16,
     "metadata": {},
     "output_type": "execute_result"
    }
   ],
   "source": [
    "beers[beers.beer_id.duplicated(keep=False)].sort_values(by='beer_id')"
   ]
  },
  {
   "cell_type": "code",
   "execution_count": 9,
   "metadata": {
    "tags": []
   },
   "outputs": [
    {
     "data": {
      "text/html": [
       "<div>\n",
       "<style scoped>\n",
       "    .dataframe tbody tr th:only-of-type {\n",
       "        vertical-align: middle;\n",
       "    }\n",
       "\n",
       "    .dataframe tbody tr th {\n",
       "        vertical-align: top;\n",
       "    }\n",
       "\n",
       "    .dataframe thead th {\n",
       "        text-align: right;\n",
       "    }\n",
       "</style>\n",
       "<table border=\"1\" class=\"dataframe\">\n",
       "  <thead>\n",
       "    <tr style=\"text-align: right;\">\n",
       "      <th></th>\n",
       "      <th>user_name</th>\n",
       "    </tr>\n",
       "  </thead>\n",
       "  <tbody>\n",
       "    <tr>\n",
       "      <th>0</th>\n",
       "      <td>wlajwl</td>\n",
       "    </tr>\n",
       "    <tr>\n",
       "      <th>1</th>\n",
       "      <td>BigBang</td>\n",
       "    </tr>\n",
       "    <tr>\n",
       "      <th>2</th>\n",
       "      <td>GhostFace</td>\n",
       "    </tr>\n",
       "    <tr>\n",
       "      <th>3</th>\n",
       "      <td>sbanach</td>\n",
       "    </tr>\n",
       "    <tr>\n",
       "      <th>4</th>\n",
       "      <td>IrishBoy</td>\n",
       "    </tr>\n",
       "    <tr>\n",
       "      <th>...</th>\n",
       "      <td>...</td>\n",
       "    </tr>\n",
       "    <tr>\n",
       "      <th>1803</th>\n",
       "      <td>snapple2</td>\n",
       "    </tr>\n",
       "    <tr>\n",
       "      <th>1804</th>\n",
       "      <td>lenomatic1</td>\n",
       "    </tr>\n",
       "    <tr>\n",
       "      <th>1805</th>\n",
       "      <td>TonyDiUlio</td>\n",
       "    </tr>\n",
       "    <tr>\n",
       "      <th>1806</th>\n",
       "      <td>gambrilivinus</td>\n",
       "    </tr>\n",
       "    <tr>\n",
       "      <th>1807</th>\n",
       "      <td>GuillaumeCL</td>\n",
       "    </tr>\n",
       "  </tbody>\n",
       "</table>\n",
       "<p>1808 rows × 1 columns</p>\n",
       "</div>"
      ],
      "text/plain": [
       "          user_name\n",
       "0            wlajwl\n",
       "1           BigBang\n",
       "2         GhostFace\n",
       "3           sbanach\n",
       "4          IrishBoy\n",
       "...             ...\n",
       "1803       snapple2\n",
       "1804     lenomatic1\n",
       "1805     TonyDiUlio\n",
       "1806  gambrilivinus\n",
       "1807    GuillaumeCL\n",
       "\n",
       "[1808 rows x 1 columns]"
      ]
     },
     "execution_count": 9,
     "metadata": {},
     "output_type": "execute_result"
    }
   ],
   "source": [
    "test_users = pd.read_csv('data/data/test_users.csv')\n",
    "test_users"
   ]
  },
  {
   "cell_type": "code",
   "execution_count": 18,
   "metadata": {
    "tags": []
   },
   "outputs": [
    {
     "data": {
      "text/plain": [
       "1808"
      ]
     },
     "execution_count": 18,
     "metadata": {},
     "output_type": "execute_result"
    }
   ],
   "source": [
    "test_users.user_name.nunique()"
   ]
  },
  {
   "cell_type": "markdown",
   "metadata": {},
   "source": [
    "## Process and clean data\n",
    "- Check if data needs to be processed and cleaned.\n",
    "- Process and clean data if necessary."
   ]
  },
  {
   "cell_type": "code",
   "execution_count": 10,
   "metadata": {},
   "outputs": [
    {
     "data": {
      "text/html": [
       "<div>\n",
       "<style scoped>\n",
       "    .dataframe tbody tr th:only-of-type {\n",
       "        vertical-align: middle;\n",
       "    }\n",
       "\n",
       "    .dataframe tbody tr th {\n",
       "        vertical-align: top;\n",
       "    }\n",
       "\n",
       "    .dataframe thead th {\n",
       "        text-align: right;\n",
       "    }\n",
       "</style>\n",
       "<table border=\"1\" class=\"dataframe\">\n",
       "  <thead>\n",
       "    <tr style=\"text-align: right;\">\n",
       "      <th></th>\n",
       "      <th>beer_id</th>\n",
       "      <th>user_name</th>\n",
       "      <th>review_score</th>\n",
       "    </tr>\n",
       "  </thead>\n",
       "  <tbody>\n",
       "    <tr>\n",
       "      <th>0</th>\n",
       "      <td>63836</td>\n",
       "      <td>hopdog</td>\n",
       "      <td>13</td>\n",
       "    </tr>\n",
       "    <tr>\n",
       "      <th>1</th>\n",
       "      <td>63836</td>\n",
       "      <td>TomDecapolis</td>\n",
       "      <td>13</td>\n",
       "    </tr>\n",
       "    <tr>\n",
       "      <th>2</th>\n",
       "      <td>71716</td>\n",
       "      <td>PhillyBeer2112</td>\n",
       "      <td>14</td>\n",
       "    </tr>\n",
       "    <tr>\n",
       "      <th>3</th>\n",
       "      <td>64125</td>\n",
       "      <td>TomDecapolis</td>\n",
       "      <td>8</td>\n",
       "    </tr>\n",
       "    <tr>\n",
       "      <th>4</th>\n",
       "      <td>64125</td>\n",
       "      <td>hopdog</td>\n",
       "      <td>8</td>\n",
       "    </tr>\n",
       "  </tbody>\n",
       "</table>\n",
       "</div>"
      ],
      "text/plain": [
       "   beer_id       user_name  review_score\n",
       "0    63836          hopdog            13\n",
       "1    63836    TomDecapolis            13\n",
       "2    71716  PhillyBeer2112            14\n",
       "3    64125    TomDecapolis             8\n",
       "4    64125          hopdog             8"
      ]
     },
     "execution_count": 10,
     "metadata": {},
     "output_type": "execute_result"
    }
   ],
   "source": [
    "ratings = train_ratings.copy().drop(columns='review_time')\n",
    "ratings.head()"
   ]
  },
  {
   "cell_type": "code",
   "execution_count": 11,
   "metadata": {
    "tags": []
   },
   "outputs": [
    {
     "name": "stdout",
     "output_type": "stream",
     "text": [
      "<class 'pandas.core.frame.DataFrame'>\n",
      "Int64Index: 2838334 entries, 0 to 2838373\n",
      "Data columns (total 3 columns):\n",
      " #   Column        Dtype \n",
      "---  ------        ----- \n",
      " 0   beer_id       int64 \n",
      " 1   user_name     object\n",
      " 2   review_score  int64 \n",
      "dtypes: int64(2), object(1)\n",
      "memory usage: 86.6+ MB\n"
     ]
    }
   ],
   "source": [
    "ratings.info()"
   ]
  },
  {
   "cell_type": "markdown",
   "metadata": {},
   "source": [
    "## Identify and separate the Users\n",
    "- Which users are present in the training data?\n",
    "- Make sure that you identify which test users are present in the training data and which are not.\n",
    "- Can you use personalized methologies for all users?"
   ]
  },
  {
   "cell_type": "markdown",
   "metadata": {},
   "source": [
    "#### Training set"
   ]
  },
  {
   "cell_type": "code",
   "execution_count": 12,
   "metadata": {
    "tags": []
   },
   "outputs": [],
   "source": [
    "data_train, data_val = train_test_split(ratings, test_size=0.4, random_state=123)"
   ]
  },
  {
   "cell_type": "code",
   "execution_count": 22,
   "metadata": {
    "tags": []
   },
   "outputs": [
    {
     "name": "stdout",
     "output_type": "stream",
     "text": [
      "We have 1,703,000 ratings in total in the training set.\n"
     ]
    }
   ],
   "source": [
    "print(f\"We have {len(data_train):,} ratings in total in the training set.\")"
   ]
  },
  {
   "cell_type": "code",
   "execution_count": 23,
   "metadata": {
    "tags": []
   },
   "outputs": [
    {
     "name": "stdout",
     "output_type": "stream",
     "text": [
      " We have 96,571 beers rated.\n"
     ]
    }
   ],
   "source": [
    "print(f\" We have {data_train['beer_id'].unique().size:,} beers rated.\")"
   ]
  },
  {
   "cell_type": "code",
   "execution_count": 24,
   "metadata": {
    "tags": []
   },
   "outputs": [
    {
     "name": "stdout",
     "output_type": "stream",
     "text": [
      " We have 24,408 users that rated at least one beer.\n"
     ]
    }
   ],
   "source": [
    "print(f\" We have {data_train['user_name'].unique().size:,} users that rated at least one beer.\")"
   ]
  },
  {
   "cell_type": "markdown",
   "metadata": {},
   "source": [
    "#### Validation set"
   ]
  },
  {
   "cell_type": "code",
   "execution_count": 25,
   "metadata": {
    "tags": []
   },
   "outputs": [
    {
     "name": "stdout",
     "output_type": "stream",
     "text": [
      "We have 1,135,334 ratings in total in the validation set.\n",
      " We have 85,823 beers rated.\n",
      " We have 21,278 users that rated at least one beer.\n"
     ]
    }
   ],
   "source": [
    "print(f\"We have {len(data_val):,} ratings in total in the validation set.\")\n",
    "print(f\" We have {data_val['beer_id'].unique().size:,} beers rated.\")\n",
    "print(f\" We have {data_val['user_name'].unique().size:,} users that rated at least one beer.\")"
   ]
  },
  {
   "cell_type": "markdown",
   "metadata": {},
   "source": [
    "#### Select reviews from users with at least 50 positive ratings."
   ]
  },
  {
   "cell_type": "code",
   "execution_count": 13,
   "metadata": {
    "tags": []
   },
   "outputs": [
    {
     "data": {
      "text/html": [
       "<div>\n",
       "<style scoped>\n",
       "    .dataframe tbody tr th:only-of-type {\n",
       "        vertical-align: middle;\n",
       "    }\n",
       "\n",
       "    .dataframe tbody tr th {\n",
       "        vertical-align: top;\n",
       "    }\n",
       "\n",
       "    .dataframe thead th {\n",
       "        text-align: right;\n",
       "    }\n",
       "</style>\n",
       "<table border=\"1\" class=\"dataframe\">\n",
       "  <thead>\n",
       "    <tr style=\"text-align: right;\">\n",
       "      <th></th>\n",
       "      <th>beer_id</th>\n",
       "      <th>user_name</th>\n",
       "      <th>review_score</th>\n",
       "    </tr>\n",
       "  </thead>\n",
       "  <tbody>\n",
       "    <tr>\n",
       "      <th>747559</th>\n",
       "      <td>2208</td>\n",
       "      <td>pilsnerrogge</td>\n",
       "      <td>19</td>\n",
       "    </tr>\n",
       "    <tr>\n",
       "      <th>1410125</th>\n",
       "      <td>6867</td>\n",
       "      <td>mar</td>\n",
       "      <td>13</td>\n",
       "    </tr>\n",
       "    <tr>\n",
       "      <th>406448</th>\n",
       "      <td>37134</td>\n",
       "      <td>Sammy</td>\n",
       "      <td>14</td>\n",
       "    </tr>\n",
       "    <tr>\n",
       "      <th>2141118</th>\n",
       "      <td>142778</td>\n",
       "      <td>HonkeyBra</td>\n",
       "      <td>15</td>\n",
       "    </tr>\n",
       "    <tr>\n",
       "      <th>247270</th>\n",
       "      <td>74533</td>\n",
       "      <td>DTM</td>\n",
       "      <td>15</td>\n",
       "    </tr>\n",
       "    <tr>\n",
       "      <th>...</th>\n",
       "      <td>...</td>\n",
       "      <td>...</td>\n",
       "      <td>...</td>\n",
       "    </tr>\n",
       "    <tr>\n",
       "      <th>775194</th>\n",
       "      <td>10704</td>\n",
       "      <td>onlyrocknroll</td>\n",
       "      <td>13</td>\n",
       "    </tr>\n",
       "    <tr>\n",
       "      <th>538700</th>\n",
       "      <td>61447</td>\n",
       "      <td>Eyedrinkale</td>\n",
       "      <td>18</td>\n",
       "    </tr>\n",
       "    <tr>\n",
       "      <th>2674927</th>\n",
       "      <td>84453</td>\n",
       "      <td>downender</td>\n",
       "      <td>13</td>\n",
       "    </tr>\n",
       "    <tr>\n",
       "      <th>391263</th>\n",
       "      <td>4664</td>\n",
       "      <td>maniac</td>\n",
       "      <td>13</td>\n",
       "    </tr>\n",
       "    <tr>\n",
       "      <th>2513986</th>\n",
       "      <td>160274</td>\n",
       "      <td>cgarvieuk</td>\n",
       "      <td>14</td>\n",
       "    </tr>\n",
       "  </tbody>\n",
       "</table>\n",
       "<p>655106 rows × 3 columns</p>\n",
       "</div>"
      ],
      "text/plain": [
       "         beer_id      user_name  review_score\n",
       "747559      2208   pilsnerrogge            19\n",
       "1410125     6867            mar            13\n",
       "406448     37134          Sammy            14\n",
       "2141118   142778      HonkeyBra            15\n",
       "247270     74533            DTM            15\n",
       "...          ...            ...           ...\n",
       "775194     10704  onlyrocknroll            13\n",
       "538700     61447    Eyedrinkale            18\n",
       "2674927    84453      downender            13\n",
       "391263      4664         maniac            13\n",
       "2513986   160274      cgarvieuk            14\n",
       "\n",
       "[655106 rows x 3 columns]"
      ]
     },
     "execution_count": 13,
     "metadata": {},
     "output_type": "execute_result"
    }
   ],
   "source": [
    "def select_frequent_reviewers(df: pd.DataFrame, min_nr_reviews: int = 50, min_rating: int = 13):\n",
    "    \"\"\"\n",
    "    Select reviews from users with at least min_nr_reviews reviews with rating larger than min_rating.\n",
    "    \"\"\"\n",
    "    \n",
    "    # Select only positive reviews\n",
    "    df_positive = df.copy().loc[df[\"review_score\"] >= min_rating]\n",
    "\n",
    "    # Select users with more than min_nr_reviews positive reviews\n",
    "    user_review_count = df_positive.groupby(by=[\"user_name\"])[\"beer_id\"].count()\n",
    "    test_users_list = list(user_review_count[user_review_count > min_nr_reviews].index)\n",
    "\n",
    "    # Select ratings from users specified above\n",
    "    df_restrict = df_positive.copy().loc[df_positive[\"user_name\"].isin(test_users_list)]\n",
    "    \n",
    "    return df_restrict\n",
    "\n",
    "data_val_final = select_frequent_reviewers(data_val)\n",
    "data_val_final"
   ]
  },
  {
   "cell_type": "code",
   "execution_count": 14,
   "metadata": {
    "tags": []
   },
   "outputs": [
    {
     "name": "stdout",
     "output_type": "stream",
     "text": [
      "We are validating recommendations with 2505 users.\n"
     ]
    }
   ],
   "source": [
    "users_val = data_val_final[\"user_name\"].unique().tolist()\n",
    "print(f\"We are validating recommendations with {len(users_val)} users.\")"
   ]
  },
  {
   "cell_type": "code",
   "execution_count": 15,
   "metadata": {
    "tags": []
   },
   "outputs": [
    {
     "data": {
      "text/html": [
       "<div>\n",
       "<style scoped>\n",
       "    .dataframe tbody tr th:only-of-type {\n",
       "        vertical-align: middle;\n",
       "    }\n",
       "\n",
       "    .dataframe tbody tr th {\n",
       "        vertical-align: top;\n",
       "    }\n",
       "\n",
       "    .dataframe thead th {\n",
       "        text-align: right;\n",
       "    }\n",
       "</style>\n",
       "<table border=\"1\" class=\"dataframe\">\n",
       "  <thead>\n",
       "    <tr style=\"text-align: right;\">\n",
       "      <th></th>\n",
       "      <th>0</th>\n",
       "      <th>1</th>\n",
       "      <th>2</th>\n",
       "      <th>3</th>\n",
       "      <th>4</th>\n",
       "      <th>5</th>\n",
       "      <th>6</th>\n",
       "      <th>7</th>\n",
       "      <th>8</th>\n",
       "      <th>9</th>\n",
       "      <th>...</th>\n",
       "      <th>41</th>\n",
       "      <th>42</th>\n",
       "      <th>43</th>\n",
       "      <th>44</th>\n",
       "      <th>45</th>\n",
       "      <th>46</th>\n",
       "      <th>47</th>\n",
       "      <th>48</th>\n",
       "      <th>49</th>\n",
       "      <th>50</th>\n",
       "    </tr>\n",
       "  </thead>\n",
       "  <tbody>\n",
       "    <tr>\n",
       "      <th>0</th>\n",
       "      <td>00cobraR</td>\n",
       "      <td>2225611</td>\n",
       "      <td>104805</td>\n",
       "      <td>1757047</td>\n",
       "      <td>635219</td>\n",
       "      <td>5043</td>\n",
       "      <td>2144300</td>\n",
       "      <td>1777883</td>\n",
       "      <td>2088356</td>\n",
       "      <td>1349854</td>\n",
       "      <td>...</td>\n",
       "      <td>1765323</td>\n",
       "      <td>1751180</td>\n",
       "      <td>2258720</td>\n",
       "      <td>1556241</td>\n",
       "      <td>1109037</td>\n",
       "      <td>301395</td>\n",
       "      <td>1749163</td>\n",
       "      <td>614481</td>\n",
       "      <td>102841</td>\n",
       "      <td>455475</td>\n",
       "    </tr>\n",
       "    <tr>\n",
       "      <th>1</th>\n",
       "      <td>0o9i</td>\n",
       "      <td>186490</td>\n",
       "      <td>2152848</td>\n",
       "      <td>1989445</td>\n",
       "      <td>1159004</td>\n",
       "      <td>740474</td>\n",
       "      <td>209063</td>\n",
       "      <td>2631380</td>\n",
       "      <td>1714842</td>\n",
       "      <td>2156267</td>\n",
       "      <td>...</td>\n",
       "      <td>458777</td>\n",
       "      <td>68978</td>\n",
       "      <td>2051262</td>\n",
       "      <td>71066</td>\n",
       "      <td>456853</td>\n",
       "      <td>2084002</td>\n",
       "      <td>1938696</td>\n",
       "      <td>2819151</td>\n",
       "      <td>253110</td>\n",
       "      <td>614614</td>\n",
       "    </tr>\n",
       "    <tr>\n",
       "      <th>2</th>\n",
       "      <td>1010</td>\n",
       "      <td>877036</td>\n",
       "      <td>883894</td>\n",
       "      <td>2409194</td>\n",
       "      <td>890909</td>\n",
       "      <td>2561641</td>\n",
       "      <td>712978</td>\n",
       "      <td>2794313</td>\n",
       "      <td>2509938</td>\n",
       "      <td>2733634</td>\n",
       "      <td>...</td>\n",
       "      <td>2562125</td>\n",
       "      <td>250691</td>\n",
       "      <td>2767933</td>\n",
       "      <td>2408228</td>\n",
       "      <td>1748043</td>\n",
       "      <td>2562077</td>\n",
       "      <td>1740863</td>\n",
       "      <td>1117030</td>\n",
       "      <td>865977</td>\n",
       "      <td>1114053</td>\n",
       "    </tr>\n",
       "    <tr>\n",
       "      <th>3</th>\n",
       "      <td>11026</td>\n",
       "      <td>1013409</td>\n",
       "      <td>1865812</td>\n",
       "      <td>1349919</td>\n",
       "      <td>844162</td>\n",
       "      <td>2083088</td>\n",
       "      <td>845342</td>\n",
       "      <td>931927</td>\n",
       "      <td>2682684</td>\n",
       "      <td>1556733</td>\n",
       "      <td>...</td>\n",
       "      <td>296840</td>\n",
       "      <td>2686994</td>\n",
       "      <td>1826697</td>\n",
       "      <td>1107840</td>\n",
       "      <td>82599</td>\n",
       "      <td>2238148</td>\n",
       "      <td>1610545</td>\n",
       "      <td>1826922</td>\n",
       "      <td>822050</td>\n",
       "      <td>2137605</td>\n",
       "    </tr>\n",
       "    <tr>\n",
       "      <th>4</th>\n",
       "      <td>12many</td>\n",
       "      <td>634960</td>\n",
       "      <td>12041</td>\n",
       "      <td>252679</td>\n",
       "      <td>2443775</td>\n",
       "      <td>633160</td>\n",
       "      <td>964744</td>\n",
       "      <td>2139098</td>\n",
       "      <td>2079830</td>\n",
       "      <td>1603365</td>\n",
       "      <td>...</td>\n",
       "      <td>2818668</td>\n",
       "      <td>2815908</td>\n",
       "      <td>302284</td>\n",
       "      <td>1762249</td>\n",
       "      <td>1949362</td>\n",
       "      <td>2134521</td>\n",
       "      <td>2146949</td>\n",
       "      <td>2559979</td>\n",
       "      <td>2134316</td>\n",
       "      <td>2288793</td>\n",
       "    </tr>\n",
       "    <tr>\n",
       "      <th>...</th>\n",
       "      <td>...</td>\n",
       "      <td>...</td>\n",
       "      <td>...</td>\n",
       "      <td>...</td>\n",
       "      <td>...</td>\n",
       "      <td>...</td>\n",
       "      <td>...</td>\n",
       "      <td>...</td>\n",
       "      <td>...</td>\n",
       "      <td>...</td>\n",
       "      <td>...</td>\n",
       "      <td>...</td>\n",
       "      <td>...</td>\n",
       "      <td>...</td>\n",
       "      <td>...</td>\n",
       "      <td>...</td>\n",
       "      <td>...</td>\n",
       "      <td>...</td>\n",
       "      <td>...</td>\n",
       "      <td>...</td>\n",
       "      <td>...</td>\n",
       "    </tr>\n",
       "    <tr>\n",
       "      <th>2500</th>\n",
       "      <td>zizzybalubba</td>\n",
       "      <td>2466595</td>\n",
       "      <td>2778482</td>\n",
       "      <td>2074818</td>\n",
       "      <td>2066627</td>\n",
       "      <td>2360710</td>\n",
       "      <td>477564</td>\n",
       "      <td>1868934</td>\n",
       "      <td>2243278</td>\n",
       "      <td>2645878</td>\n",
       "      <td>...</td>\n",
       "      <td>2047135</td>\n",
       "      <td>464973</td>\n",
       "      <td>2508113</td>\n",
       "      <td>971672</td>\n",
       "      <td>582169</td>\n",
       "      <td>675235</td>\n",
       "      <td>301844</td>\n",
       "      <td>1115571</td>\n",
       "      <td>822506</td>\n",
       "      <td>466798</td>\n",
       "    </tr>\n",
       "    <tr>\n",
       "      <th>2501</th>\n",
       "      <td>zombywoof</td>\n",
       "      <td>561085</td>\n",
       "      <td>1148207</td>\n",
       "      <td>1834274</td>\n",
       "      <td>2435684</td>\n",
       "      <td>2293980</td>\n",
       "      <td>2299296</td>\n",
       "      <td>2472241</td>\n",
       "      <td>873909</td>\n",
       "      <td>1052320</td>\n",
       "      <td>...</td>\n",
       "      <td>480365</td>\n",
       "      <td>504520</td>\n",
       "      <td>1914613</td>\n",
       "      <td>1632985</td>\n",
       "      <td>720312</td>\n",
       "      <td>1266133</td>\n",
       "      <td>2443755</td>\n",
       "      <td>352101</td>\n",
       "      <td>885245</td>\n",
       "      <td>1778968</td>\n",
       "    </tr>\n",
       "    <tr>\n",
       "      <th>2502</th>\n",
       "      <td>ztrvz</td>\n",
       "      <td>2406598</td>\n",
       "      <td>1583744</td>\n",
       "      <td>993101</td>\n",
       "      <td>785799</td>\n",
       "      <td>815988</td>\n",
       "      <td>2785543</td>\n",
       "      <td>2564348</td>\n",
       "      <td>1140203</td>\n",
       "      <td>2438762</td>\n",
       "      <td>...</td>\n",
       "      <td>1706962</td>\n",
       "      <td>1137275</td>\n",
       "      <td>2500070</td>\n",
       "      <td>818919</td>\n",
       "      <td>301594</td>\n",
       "      <td>1592615</td>\n",
       "      <td>2226029</td>\n",
       "      <td>2626036</td>\n",
       "      <td>1363515</td>\n",
       "      <td>921519</td>\n",
       "    </tr>\n",
       "    <tr>\n",
       "      <th>2503</th>\n",
       "      <td>zug4abby</td>\n",
       "      <td>2685453</td>\n",
       "      <td>2530894</td>\n",
       "      <td>1821316</td>\n",
       "      <td>65827</td>\n",
       "      <td>2600771</td>\n",
       "      <td>2453438</td>\n",
       "      <td>454420</td>\n",
       "      <td>736432</td>\n",
       "      <td>554024</td>\n",
       "      <td>...</td>\n",
       "      <td>2535592</td>\n",
       "      <td>464646</td>\n",
       "      <td>342719</td>\n",
       "      <td>455947</td>\n",
       "      <td>1368482</td>\n",
       "      <td>456911</td>\n",
       "      <td>755252</td>\n",
       "      <td>466079</td>\n",
       "      <td>60479</td>\n",
       "      <td>464584</td>\n",
       "    </tr>\n",
       "    <tr>\n",
       "      <th>2504</th>\n",
       "      <td>zvikar</td>\n",
       "      <td>748513</td>\n",
       "      <td>2471247</td>\n",
       "      <td>71948</td>\n",
       "      <td>671284</td>\n",
       "      <td>1133348</td>\n",
       "      <td>2430688</td>\n",
       "      <td>95200</td>\n",
       "      <td>1152547</td>\n",
       "      <td>1164265</td>\n",
       "      <td>...</td>\n",
       "      <td>1871784</td>\n",
       "      <td>12018</td>\n",
       "      <td>515938</td>\n",
       "      <td>302034</td>\n",
       "      <td>461928</td>\n",
       "      <td>6916</td>\n",
       "      <td>1999033</td>\n",
       "      <td>265090</td>\n",
       "      <td>1093874</td>\n",
       "      <td>2466574</td>\n",
       "    </tr>\n",
       "  </tbody>\n",
       "</table>\n",
       "<p>2505 rows × 51 columns</p>\n",
       "</div>"
      ],
      "text/plain": [
       "                0        1        2        3        4        5        6   \\\n",
       "0         00cobraR  2225611   104805  1757047   635219     5043  2144300   \n",
       "1             0o9i   186490  2152848  1989445  1159004   740474   209063   \n",
       "2             1010   877036   883894  2409194   890909  2561641   712978   \n",
       "3            11026  1013409  1865812  1349919   844162  2083088   845342   \n",
       "4           12many   634960    12041   252679  2443775   633160   964744   \n",
       "...            ...      ...      ...      ...      ...      ...      ...   \n",
       "2500  zizzybalubba  2466595  2778482  2074818  2066627  2360710   477564   \n",
       "2501     zombywoof   561085  1148207  1834274  2435684  2293980  2299296   \n",
       "2502         ztrvz  2406598  1583744   993101   785799   815988  2785543   \n",
       "2503      zug4abby  2685453  2530894  1821316    65827  2600771  2453438   \n",
       "2504        zvikar   748513  2471247    71948   671284  1133348  2430688   \n",
       "\n",
       "           7        8        9   ...       41       42       43       44  \\\n",
       "0     1777883  2088356  1349854  ...  1765323  1751180  2258720  1556241   \n",
       "1     2631380  1714842  2156267  ...   458777    68978  2051262    71066   \n",
       "2     2794313  2509938  2733634  ...  2562125   250691  2767933  2408228   \n",
       "3      931927  2682684  1556733  ...   296840  2686994  1826697  1107840   \n",
       "4     2139098  2079830  1603365  ...  2818668  2815908   302284  1762249   \n",
       "...       ...      ...      ...  ...      ...      ...      ...      ...   \n",
       "2500  1868934  2243278  2645878  ...  2047135   464973  2508113   971672   \n",
       "2501  2472241   873909  1052320  ...   480365   504520  1914613  1632985   \n",
       "2502  2564348  1140203  2438762  ...  1706962  1137275  2500070   818919   \n",
       "2503   454420   736432   554024  ...  2535592   464646   342719   455947   \n",
       "2504    95200  1152547  1164265  ...  1871784    12018   515938   302034   \n",
       "\n",
       "           45       46       47       48       49       50  \n",
       "0     1109037   301395  1749163   614481   102841   455475  \n",
       "1      456853  2084002  1938696  2819151   253110   614614  \n",
       "2     1748043  2562077  1740863  1117030   865977  1114053  \n",
       "3       82599  2238148  1610545  1826922   822050  2137605  \n",
       "4     1949362  2134521  2146949  2559979  2134316  2288793  \n",
       "...       ...      ...      ...      ...      ...      ...  \n",
       "2500   582169   675235   301844  1115571   822506   466798  \n",
       "2501   720312  1266133  2443755   352101   885245  1778968  \n",
       "2502   301594  1592615  2226029  2626036  1363515   921519  \n",
       "2503  1368482   456911   755252   466079    60479   464584  \n",
       "2504   461928     6916  1999033   265090  1093874  2466574  \n",
       "\n",
       "[2505 rows x 51 columns]"
      ]
     },
     "execution_count": 15,
     "metadata": {},
     "output_type": "execute_result"
    }
   ],
   "source": [
    "# nr of recommendations per user\n",
    "k_top = 50\n",
    "\n",
    "def top_items_per_user(df: pd.DataFrame, user_col: str, rating_col:str, k_top: int = 50):\n",
    "\n",
    "    df_users_kbest = df.copy().groupby(by=[user_col])[rating_col].nlargest(k_top).reset_index()\n",
    "    df_users_kbest['rank'] = df_users_kbest.groupby(by=[user_col])[rating_col].rank(method=\"first\")\n",
    "    #df_users_kbest['rank'] = df_users_kbest['rank'].astype(int) - 1\n",
    "    df_recommendations = df_users_kbest.pivot(index=user_col, columns=\"rank\", values=\"level_1\")\n",
    "    df_recommendations = df_recommendations.reset_index(drop=False)\n",
    "    df_recommendations.columns = np.arange(len(df_recommendations.columns))\n",
    "    return df_recommendations\n",
    "\n",
    "val_recommendations = top_items_per_user(data_val_final, \"user_name\", \"review_score\", k_top=k_top)\n",
    "val_recommendations"
   ]
  },
  {
   "cell_type": "code",
   "execution_count": null,
   "metadata": {},
   "outputs": [],
   "source": []
  },
  {
   "cell_type": "markdown",
   "metadata": {},
   "source": [
    "## Create the Ratings Matrix"
   ]
  },
  {
   "cell_type": "code",
   "execution_count": null,
   "metadata": {},
   "outputs": [],
   "source": [
    "# YOUR CODE HERE"
   ]
  },
  {
   "cell_type": "markdown",
   "metadata": {},
   "source": [
    "## Non-Personalized Recommendations\n",
    "- Create non-personalized recommendations as a baseline.\n",
    "- Apply the recommendations to the test users.\n",
    "- Store results in the required format for submission.\n",
    "- Submit baseline recommendations."
   ]
  },
  {
   "cell_type": "code",
   "execution_count": 16,
   "metadata": {},
   "outputs": [
    {
     "name": "stdout",
     "output_type": "stream",
     "text": [
      "[8485, 1831, 6892, 8212, 10336, 13658, 18478, 22907, 26707, 29205, 29862, 41065, 42760, 51994, 52084, 54342, 54531, 57989, 58697, 58775, 59521, 67598, 67957, 68919, 69839, 76679, 78989, 79482, 86102, 86570, 88202, 90311, 90670, 91620, 110567, 111712, 111815, 114456, 116255, 117558, 117560, 131728, 141976, 144910, 147738, 151723, 155529, 157370, 157699, 159696]\n"
     ]
    }
   ],
   "source": [
    "def non_pers_reco_order(data: pd.DataFrame,\n",
    "                        item_col: str,\n",
    "                        rating_col:str,\n",
    "                        k_top: int = 50,\n",
    "                        aggregation: list() = [\"mean\", \"count\"]):\n",
    "    \"\"\"\n",
    "    Create an ordered list of non-personalized recommendations, from best rated to worst rated.\n",
    "    \"\"\"\n",
    "    non_pers_ratings = data.groupby(by=[item_col])[[rating_col]].agg(aggregation)\n",
    "    non_pers_ratings.columns = non_pers_ratings.columns.get_level_values(1)\n",
    "    \n",
    "    #The resulting column names might be different than the specified with the aggregation parameter.\n",
    "    try:\n",
    "        non_pers_ratings = non_pers_ratings.sort_values(by=aggregation, ascending=False).head(k_top)\n",
    "    except KeyError as e:\n",
    "        print(e)\n",
    "        print(\"Check if aggregation argument results in valid column names.\")\n",
    "        print(f\"aggregation = {aggregation}\\nrating columns = {non_pers_ratings.columns}\")\n",
    "        raise e\n",
    "        \n",
    "    non_pers_reco_list = non_pers_ratings.index.to_list()\n",
    "    return non_pers_reco_list\n",
    "\n",
    "\n",
    "non_pers_recommendations = non_pers_reco_order(data_train, \"beer_id\", \"review_score\", k_top=k_top)\n",
    "print(non_pers_recommendations)"
   ]
  },
  {
   "cell_type": "code",
   "execution_count": 17,
   "metadata": {
    "tags": []
   },
   "outputs": [],
   "source": [
    "def non_pers_reco_output(user_id_list:list, non_pers_reco_list:list):\n",
    "    \"\"\"\n",
    "    Creates a non-personalized recommendation dataframe for specified users.\n",
    "    \"\"\"\n",
    "    nr_test_users = len(user_id_list)\n",
    "    user_id_df = pd.DataFrame(user_id_list, columns = [\"user_id\"])\n",
    "    non_pers_reco_repeated =  pd.DataFrame(pd.DataFrame(non_pers_reco_list).T.values.repeat(nr_test_users, axis=0))\n",
    "    non_pers_reco_output = pd.concat([user_id_df, non_pers_reco_repeated], axis=1)\n",
    "    \n",
    "    # Reset columns numbering. Useful later.\n",
    "    #non_pers_reco_output.columns = np.arange(len(non_pers_reco_output.columns))\n",
    "    \n",
    "    return non_pers_reco_output"
   ]
  },
  {
   "cell_type": "markdown",
   "metadata": {},
   "source": [
    "## Evaluate results\n",
    "- Calculate the evaluation metric on the validation users.\n",
    "- Compare it later with the personalized recommendations"
   ]
  },
  {
   "cell_type": "code",
   "execution_count": null,
   "metadata": {},
   "outputs": [],
   "source": [
    "# YOUR CODE HERE"
   ]
  },
  {
   "cell_type": "markdown",
   "metadata": {},
   "source": [
    "## Personalized Recommendations: Collaborative Filtering\n",
    "- Compute the user similarities matrix.\n",
    "- Predict ratings.\n",
    "- Select the best recommendations.\n",
    "- Submit recommendations."
   ]
  },
  {
   "cell_type": "code",
   "execution_count": 19,
   "metadata": {},
   "outputs": [
    {
     "data": {
      "text/html": [
       "<div>\n",
       "<style scoped>\n",
       "    .dataframe tbody tr th:only-of-type {\n",
       "        vertical-align: middle;\n",
       "    }\n",
       "\n",
       "    .dataframe tbody tr th {\n",
       "        vertical-align: top;\n",
       "    }\n",
       "\n",
       "    .dataframe thead th {\n",
       "        text-align: right;\n",
       "    }\n",
       "</style>\n",
       "<table border=\"1\" class=\"dataframe\">\n",
       "  <thead>\n",
       "    <tr style=\"text-align: right;\">\n",
       "      <th></th>\n",
       "      <th>user_name</th>\n",
       "      <th>beer_id</th>\n",
       "      <th>review_score</th>\n",
       "    </tr>\n",
       "  </thead>\n",
       "  <tbody>\n",
       "    <tr>\n",
       "      <th>929489</th>\n",
       "      <td>pivnizub</td>\n",
       "      <td>41642</td>\n",
       "      <td>10</td>\n",
       "    </tr>\n",
       "    <tr>\n",
       "      <th>62794</th>\n",
       "      <td>brentfeesh</td>\n",
       "      <td>7859</td>\n",
       "      <td>16</td>\n",
       "    </tr>\n",
       "    <tr>\n",
       "      <th>131954</th>\n",
       "      <td>JorisPPattyn</td>\n",
       "      <td>24532</td>\n",
       "      <td>14</td>\n",
       "    </tr>\n",
       "    <tr>\n",
       "      <th>661254</th>\n",
       "      <td>GeniusGirl</td>\n",
       "      <td>8426</td>\n",
       "      <td>14</td>\n",
       "    </tr>\n",
       "    <tr>\n",
       "      <th>2775302</th>\n",
       "      <td>sersdf</td>\n",
       "      <td>97568</td>\n",
       "      <td>15</td>\n",
       "    </tr>\n",
       "    <tr>\n",
       "      <th>...</th>\n",
       "      <td>...</td>\n",
       "      <td>...</td>\n",
       "      <td>...</td>\n",
       "    </tr>\n",
       "    <tr>\n",
       "      <th>1954943</th>\n",
       "      <td>tennisjoel</td>\n",
       "      <td>1190</td>\n",
       "      <td>15</td>\n",
       "    </tr>\n",
       "    <tr>\n",
       "      <th>1241081</th>\n",
       "      <td>dominion</td>\n",
       "      <td>649</td>\n",
       "      <td>18</td>\n",
       "    </tr>\n",
       "    <tr>\n",
       "      <th>28030</th>\n",
       "      <td>jhumphries69</td>\n",
       "      <td>72686</td>\n",
       "      <td>12</td>\n",
       "    </tr>\n",
       "    <tr>\n",
       "      <th>277884</th>\n",
       "      <td>tnkw01</td>\n",
       "      <td>80837</td>\n",
       "      <td>10</td>\n",
       "    </tr>\n",
       "    <tr>\n",
       "      <th>773650</th>\n",
       "      <td>Muggus69</td>\n",
       "      <td>78565</td>\n",
       "      <td>15</td>\n",
       "    </tr>\n",
       "  </tbody>\n",
       "</table>\n",
       "<p>1703000 rows × 3 columns</p>\n",
       "</div>"
      ],
      "text/plain": [
       "            user_name  beer_id  review_score\n",
       "929489       pivnizub    41642            10\n",
       "62794      brentfeesh     7859            16\n",
       "131954   JorisPPattyn    24532            14\n",
       "661254     GeniusGirl     8426            14\n",
       "2775302        sersdf    97568            15\n",
       "...               ...      ...           ...\n",
       "1954943    tennisjoel     1190            15\n",
       "1241081      dominion      649            18\n",
       "28030    jhumphries69    72686            12\n",
       "277884         tnkw01    80837            10\n",
       "773650       Muggus69    78565            15\n",
       "\n",
       "[1703000 rows x 3 columns]"
      ]
     },
     "execution_count": 19,
     "metadata": {},
     "output_type": "execute_result"
    }
   ],
   "source": [
    "data_train = data_train[['user_name', 'beer_id', 'review_score']]\n",
    "data_train"
   ]
  },
  {
   "cell_type": "code",
   "execution_count": 20,
   "metadata": {
    "tags": []
   },
   "outputs": [
    {
     "data": {
      "text/plain": [
       "24408"
      ]
     },
     "execution_count": 20,
     "metadata": {},
     "output_type": "execute_result"
    }
   ],
   "source": [
    "data_train.user_name.nunique()"
   ]
  },
  {
   "cell_type": "code",
   "execution_count": 21,
   "metadata": {
    "tags": []
   },
   "outputs": [
    {
     "data": {
      "text/plain": [
       "96571"
      ]
     },
     "execution_count": 21,
     "metadata": {},
     "output_type": "execute_result"
    }
   ],
   "source": [
    "data_train.beer_id.nunique()"
   ]
  },
  {
   "cell_type": "code",
   "execution_count": 22,
   "metadata": {},
   "outputs": [],
   "source": [
    "# Notice the alias lfmDataset() instead of the standard Dataset()\n",
    "# Used to distiguish between lightFM Dataset() and another Dataset() that we use later.\n",
    "lfmdataset = lfmDataset()\n",
    "lfmdataset.fit(data_train['user_name'], data_train[\"beer_id\"])"
   ]
  },
  {
   "cell_type": "code",
   "execution_count": 23,
   "metadata": {
    "tags": []
   },
   "outputs": [
    {
     "name": "stdout",
     "output_type": "stream",
     "text": [
      "Num users: 24,408, num_items 96,571.\n"
     ]
    }
   ],
   "source": [
    "num_users, num_items = lfmdataset.interactions_shape()\n",
    "print('Num users: {:,}, num_items {:,}.'.format(num_users, num_items))"
   ]
  },
  {
   "cell_type": "code",
   "execution_count": 24,
   "metadata": {
    "tags": []
   },
   "outputs": [],
   "source": [
    "user_id_map, user_feature_map, item_id_map, item_feature_map = lfmdataset.mapping()"
   ]
  },
  {
   "cell_type": "code",
   "execution_count": 25,
   "metadata": {
    "tags": []
   },
   "outputs": [],
   "source": [
    "item_id_map_reverse = {v: k for k, v in item_id_map.items()}"
   ]
  },
  {
   "cell_type": "code",
   "execution_count": 26,
   "metadata": {
    "tags": []
   },
   "outputs": [
    {
     "name": "stdout",
     "output_type": "stream",
     "text": [
      "<24408x96571 sparse matrix of type '<class 'numpy.int32'>'\n",
      "\twith 1703000 stored elements in COOrdinate format>\n"
     ]
    }
   ],
   "source": [
    "(interactions, weights) = lfmdataset.build_interactions(data_train.values)\n",
    "\n",
    "print(repr(interactions))"
   ]
  },
  {
   "cell_type": "code",
   "execution_count": 27,
   "metadata": {
    "tags": []
   },
   "outputs": [],
   "source": [
    "lfmodel = LightFM(loss='warp')"
   ]
  },
  {
   "cell_type": "code",
   "execution_count": 28,
   "metadata": {
    "tags": []
   },
   "outputs": [
    {
     "data": {
      "text/plain": [
       "<lightfm.lightfm.LightFM at 0x7f2b410ef040>"
      ]
     },
     "execution_count": 28,
     "metadata": {},
     "output_type": "execute_result"
    }
   ],
   "source": [
    "lfmodel.fit(interactions)"
   ]
  },
  {
   "cell_type": "code",
   "execution_count": 169,
   "metadata": {
    "tags": []
   },
   "outputs": [
    {
     "data": {
      "text/html": [
       "<div>\n",
       "<style scoped>\n",
       "    .dataframe tbody tr th:only-of-type {\n",
       "        vertical-align: middle;\n",
       "    }\n",
       "\n",
       "    .dataframe tbody tr th {\n",
       "        vertical-align: top;\n",
       "    }\n",
       "\n",
       "    .dataframe thead th {\n",
       "        text-align: right;\n",
       "    }\n",
       "</style>\n",
       "<table border=\"1\" class=\"dataframe\">\n",
       "  <thead>\n",
       "    <tr style=\"text-align: right;\">\n",
       "      <th></th>\n",
       "      <th>user_name</th>\n",
       "      <th>0</th>\n",
       "      <th>1</th>\n",
       "      <th>2</th>\n",
       "      <th>3</th>\n",
       "      <th>4</th>\n",
       "      <th>5</th>\n",
       "      <th>6</th>\n",
       "      <th>7</th>\n",
       "      <th>8</th>\n",
       "      <th>...</th>\n",
       "      <th>40</th>\n",
       "      <th>41</th>\n",
       "      <th>42</th>\n",
       "      <th>43</th>\n",
       "      <th>44</th>\n",
       "      <th>45</th>\n",
       "      <th>46</th>\n",
       "      <th>47</th>\n",
       "      <th>48</th>\n",
       "      <th>49</th>\n",
       "    </tr>\n",
       "  </thead>\n",
       "  <tbody>\n",
       "    <tr>\n",
       "      <th>0</th>\n",
       "      <td>pivnizub</td>\n",
       "      <td>13324</td>\n",
       "      <td>36339</td>\n",
       "      <td>46898</td>\n",
       "      <td>38</td>\n",
       "      <td>70332</td>\n",
       "      <td>47364</td>\n",
       "      <td>1014</td>\n",
       "      <td>79917</td>\n",
       "      <td>16939</td>\n",
       "      <td>...</td>\n",
       "      <td>15721</td>\n",
       "      <td>24569</td>\n",
       "      <td>45100</td>\n",
       "      <td>39881</td>\n",
       "      <td>5760</td>\n",
       "      <td>5571</td>\n",
       "      <td>83911</td>\n",
       "      <td>5849</td>\n",
       "      <td>4003</td>\n",
       "      <td>11056</td>\n",
       "    </tr>\n",
       "  </tbody>\n",
       "</table>\n",
       "<p>1 rows × 51 columns</p>\n",
       "</div>"
      ],
      "text/plain": [
       "  user_name      0      1      2   3      4      5     6      7      8  ...  \\\n",
       "0  pivnizub  13324  36339  46898  38  70332  47364  1014  79917  16939  ...   \n",
       "\n",
       "      40     41     42     43    44    45     46    47    48     49  \n",
       "0  15721  24569  45100  39881  5760  5571  83911  5849  4003  11056  \n",
       "\n",
       "[1 rows x 51 columns]"
      ]
     },
     "execution_count": 169,
     "metadata": {},
     "output_type": "execute_result"
    }
   ],
   "source": [
    "k_top = 50\n",
    "\n",
    "# external user ID to predict\n",
    "user_ext_id_example = 'pivnizub'\n",
    "\n",
    "# internal user ID to predict\n",
    "user_id_example = user_id_map[user_ext_id_example]\n",
    "\n",
    "#item internal ids\n",
    "item_id_int_list = list(item_id_map.values())\n",
    "\n",
    "# Calculates the score (rating) of each item\n",
    "scores = lfmodel.predict(user_id_example, item_id_int_list)\n",
    "\n",
    "# Sort the items from highest to lowest score\n",
    "top_items_ids = np.argsort(-scores)\n",
    "top_items_ids = [item_id_map_reverse[ids] for ids in top_items_ids]\n",
    "\n",
    "# Individual row. Two steps are necessary for the first column to call \"user_id\"\n",
    "user_id_df = pd.DataFrame([user_ext_id_example], columns=[\"user_name\"])\n",
    "top_items_ids = pd.DataFrame([top_items_ids[:k_top]])\n",
    "user_reco_df = pd.concat([user_id_df,top_items_ids], axis=1)\n",
    "user_reco_df"
   ]
  },
  {
   "cell_type": "code",
   "execution_count": 170,
   "metadata": {
    "tags": []
   },
   "outputs": [
    {
     "name": "stdout",
     "output_type": "stream",
     "text": [
      "The INTERNAL ID of users with mapping are: [0, 1]\n",
      "The EXTERNAL ID of users without mapping are: ['999999999']\n"
     ]
    }
   ],
   "source": [
    "# some users\n",
    "user_id_ext_list = ['pivnizub', 'brentfeesh', '999999999'] #last ID is made up\n",
    "\n",
    "# Split old users (user_id_int_list) from new users (user_id_ext_excluded)\n",
    "user_id_int_list = []\n",
    "user_id_ext_excluded = []\n",
    "\n",
    "for user_id_ext in user_id_ext_list:\n",
    "    try:\n",
    "        # user internal ID with mapping\n",
    "        user_id_int_list.append(user_id_map[user_id_ext])\n",
    "    except:\n",
    "        # user without mapping\n",
    "        user_id_ext_excluded.append(user_id_ext)\n",
    "\n",
    "print(f\"The INTERNAL ID of users with mapping are: {user_id_int_list}\")\n",
    "print(f\"The EXTERNAL ID of users without mapping are: {user_id_ext_excluded}\")"
   ]
  },
  {
   "cell_type": "code",
   "execution_count": 171,
   "metadata": {
    "tags": []
   },
   "outputs": [],
   "source": [
    "# list of item external ids\n",
    "item_id_ext_list = list(item_id_map.values())"
   ]
  },
  {
   "cell_type": "code",
   "execution_count": 172,
   "metadata": {
    "tags": []
   },
   "outputs": [
    {
     "data": {
      "text/html": [
       "<div>\n",
       "<style scoped>\n",
       "    .dataframe tbody tr th:only-of-type {\n",
       "        vertical-align: middle;\n",
       "    }\n",
       "\n",
       "    .dataframe tbody tr th {\n",
       "        vertical-align: top;\n",
       "    }\n",
       "\n",
       "    .dataframe thead th {\n",
       "        text-align: right;\n",
       "    }\n",
       "</style>\n",
       "<table border=\"1\" class=\"dataframe\">\n",
       "  <thead>\n",
       "    <tr style=\"text-align: right;\">\n",
       "      <th></th>\n",
       "      <th>0</th>\n",
       "      <th>1</th>\n",
       "      <th>2</th>\n",
       "      <th>3</th>\n",
       "      <th>4</th>\n",
       "      <th>5</th>\n",
       "      <th>6</th>\n",
       "      <th>7</th>\n",
       "      <th>8</th>\n",
       "      <th>9</th>\n",
       "      <th>...</th>\n",
       "      <th>41</th>\n",
       "      <th>42</th>\n",
       "      <th>43</th>\n",
       "      <th>44</th>\n",
       "      <th>45</th>\n",
       "      <th>46</th>\n",
       "      <th>47</th>\n",
       "      <th>48</th>\n",
       "      <th>49</th>\n",
       "      <th>50</th>\n",
       "    </tr>\n",
       "  </thead>\n",
       "  <tbody>\n",
       "    <tr>\n",
       "      <th>0</th>\n",
       "      <td>0</td>\n",
       "      <td>13324</td>\n",
       "      <td>36339</td>\n",
       "      <td>46898</td>\n",
       "      <td>38</td>\n",
       "      <td>70332</td>\n",
       "      <td>47364</td>\n",
       "      <td>1014</td>\n",
       "      <td>79917</td>\n",
       "      <td>16939</td>\n",
       "      <td>...</td>\n",
       "      <td>15721</td>\n",
       "      <td>24569</td>\n",
       "      <td>45100</td>\n",
       "      <td>39881</td>\n",
       "      <td>5760</td>\n",
       "      <td>5571</td>\n",
       "      <td>83911</td>\n",
       "      <td>5849</td>\n",
       "      <td>4003</td>\n",
       "      <td>11056</td>\n",
       "    </tr>\n",
       "    <tr>\n",
       "      <th>0</th>\n",
       "      <td>1</td>\n",
       "      <td>3214</td>\n",
       "      <td>10569</td>\n",
       "      <td>1502</td>\n",
       "      <td>1267</td>\n",
       "      <td>11243</td>\n",
       "      <td>589</td>\n",
       "      <td>680</td>\n",
       "      <td>371</td>\n",
       "      <td>46</td>\n",
       "      <td>...</td>\n",
       "      <td>5596</td>\n",
       "      <td>7859</td>\n",
       "      <td>52</td>\n",
       "      <td>87</td>\n",
       "      <td>591</td>\n",
       "      <td>171</td>\n",
       "      <td>35488</td>\n",
       "      <td>3211</td>\n",
       "      <td>7177</td>\n",
       "      <td>473</td>\n",
       "    </tr>\n",
       "  </tbody>\n",
       "</table>\n",
       "<p>2 rows × 51 columns</p>\n",
       "</div>"
      ],
      "text/plain": [
       "   0      1      2      3     4      5      6     7      8      9   ...  \\\n",
       "0   0  13324  36339  46898    38  70332  47364  1014  79917  16939  ...   \n",
       "0   1   3214  10569   1502  1267  11243    589   680    371     46  ...   \n",
       "\n",
       "      41     42     43     44    45    46     47    48    49     50  \n",
       "0  15721  24569  45100  39881  5760  5571  83911  5849  4003  11056  \n",
       "0   5596   7859     52     87   591   171  35488  3211  7177    473  \n",
       "\n",
       "[2 rows x 51 columns]"
      ]
     },
     "execution_count": 172,
     "metadata": {},
     "output_type": "execute_result"
    }
   ],
   "source": [
    "#Dataframe with model recommendations\n",
    "model_reco_df = pd.DataFrame()\n",
    "\n",
    "##Collaborative recommendations\n",
    "for user_id in user_id_int_list:\n",
    "    scores = lfmodel.predict(user_id, item_id_ext_list)\n",
    "    top_items_ids = np.argsort(-scores)\n",
    "    top_items_ids = [item_id_map_reverse[ids] for ids in top_items_ids]\n",
    "\n",
    "    user_reco_df = pd.DataFrame([[user_id] + top_items_ids[:k_top]])\n",
    "    \n",
    "    #Appending rows\n",
    "    model_reco_df = pd.concat([model_reco_df, user_reco_df])\n",
    "model_reco_df"
   ]
  },
  {
   "cell_type": "code",
   "execution_count": 173,
   "metadata": {
    "tags": []
   },
   "outputs": [
    {
     "data": {
      "text/html": [
       "<div>\n",
       "<style scoped>\n",
       "    .dataframe tbody tr th:only-of-type {\n",
       "        vertical-align: middle;\n",
       "    }\n",
       "\n",
       "    .dataframe tbody tr th {\n",
       "        vertical-align: top;\n",
       "    }\n",
       "\n",
       "    .dataframe thead th {\n",
       "        text-align: right;\n",
       "    }\n",
       "</style>\n",
       "<table border=\"1\" class=\"dataframe\">\n",
       "  <thead>\n",
       "    <tr style=\"text-align: right;\">\n",
       "      <th></th>\n",
       "      <th>user_id</th>\n",
       "      <th>0</th>\n",
       "      <th>1</th>\n",
       "      <th>2</th>\n",
       "      <th>3</th>\n",
       "      <th>4</th>\n",
       "      <th>5</th>\n",
       "      <th>6</th>\n",
       "      <th>7</th>\n",
       "      <th>8</th>\n",
       "      <th>...</th>\n",
       "      <th>40</th>\n",
       "      <th>41</th>\n",
       "      <th>42</th>\n",
       "      <th>43</th>\n",
       "      <th>44</th>\n",
       "      <th>45</th>\n",
       "      <th>46</th>\n",
       "      <th>47</th>\n",
       "      <th>48</th>\n",
       "      <th>49</th>\n",
       "    </tr>\n",
       "  </thead>\n",
       "  <tbody>\n",
       "    <tr>\n",
       "      <th>0</th>\n",
       "      <td>999999999</td>\n",
       "      <td>8485</td>\n",
       "      <td>1831</td>\n",
       "      <td>6892</td>\n",
       "      <td>8212</td>\n",
       "      <td>10336</td>\n",
       "      <td>13658</td>\n",
       "      <td>18478</td>\n",
       "      <td>22907</td>\n",
       "      <td>26707</td>\n",
       "      <td>...</td>\n",
       "      <td>117560</td>\n",
       "      <td>131728</td>\n",
       "      <td>141976</td>\n",
       "      <td>144910</td>\n",
       "      <td>147738</td>\n",
       "      <td>151723</td>\n",
       "      <td>155529</td>\n",
       "      <td>157370</td>\n",
       "      <td>157699</td>\n",
       "      <td>159696</td>\n",
       "    </tr>\n",
       "  </tbody>\n",
       "</table>\n",
       "<p>1 rows × 51 columns</p>\n",
       "</div>"
      ],
      "text/plain": [
       "     user_id     0     1     2     3      4      5      6      7      8  ...  \\\n",
       "0  999999999  8485  1831  6892  8212  10336  13658  18478  22907  26707  ...   \n",
       "\n",
       "       40      41      42      43      44      45      46      47      48  \\\n",
       "0  117560  131728  141976  144910  147738  151723  155529  157370  157699   \n",
       "\n",
       "       49  \n",
       "0  159696  \n",
       "\n",
       "[1 rows x 51 columns]"
      ]
     },
     "execution_count": 173,
     "metadata": {},
     "output_type": "execute_result"
    }
   ],
   "source": [
    "## Non-personalized recommendations\n",
    "non_pers_reco_df = non_pers_reco_output(user_id_ext_excluded, non_pers_recommendations)\n",
    "non_pers_reco_df"
   ]
  },
  {
   "cell_type": "code",
   "execution_count": 29,
   "metadata": {
    "tags": []
   },
   "outputs": [],
   "source": [
    "def lightFM_recommendations(dataset,\n",
    "                            model,\n",
    "                            user_id_ext_list,\n",
    "                            non_pers_reco_list,\n",
    "                            k_top: int = 50,\n",
    "                            item_features = None):   \n",
    "    \"\"\"\n",
    "    Create output dataframe with recommendations based on dataset, model and list of users.\n",
    "    \n",
    "    This function predicts recommendations for users specified in user_id_ext_list that are present in the lightFM dataset.\n",
    "    New users are recommended the items in the non-personalized list non_per_reco_list.\n",
    "    \n",
    "    Parameters:\n",
    "    -----------\n",
    "    dataset: lightFM dataset\n",
    "    \n",
    "    model: lightFM trained model\n",
    "    \n",
    "    user_id_ext_list: list of user external IDs to predict\n",
    "    \n",
    "    non_pers_reco: list of non-personalized recommendations ordered from best to worst rated\n",
    "    \n",
    "    k_top: number of recommendations to create per user\n",
    "    \n",
    "    item_features: lightFM item features\n",
    "    \n",
    "    Returns:\n",
    "    --------\n",
    "    final_reco_df: dataframe with users' recommendations\n",
    "    The first column has the users' ID and the remaining columns have the recommendations\n",
    "    \"\"\"\n",
    "    \n",
    "    assert len(user_id_ext_list) > 0, \"User ID list length must be larger than 0.\"\n",
    "    \n",
    "    # Dataset mappings\n",
    "    user_id_map, user_feature_map, item_id_map, item_feature_map = dataset.mapping()\n",
    "    \n",
    "    # reverse mapping\n",
    "    item_id_map_reverse = {v: k for k, v in item_id_map.items()}\n",
    "    #print(item_id_map_reverse)\n",
    "    user_id_map_reverse = {v: k for k, v in user_id_map.items()}\n",
    "    #print(user_id_map_reverse)\n",
    "    \n",
    "    \n",
    "    # item internal ids\n",
    "    item_id_int_list = list(item_id_map.values())\n",
    "    \n",
    "    # Split old users (user_id_int_list) from new users (user_id_ext_excluded)\n",
    "    # Old users are defined in the ratings vectorial space.\n",
    "    # New users are not defined in the ratings vectorial space.\n",
    "    # New users receive non-personalized recommendations.\n",
    "    user_id_int_list = []\n",
    "    user_id_ext_excluded = []\n",
    "    \n",
    "    for user_id_ext in user_id_ext_list:\n",
    "        try:\n",
    "            user_id_int_list.append(user_id_map[user_id_ext])\n",
    "        except:\n",
    "            user_id_ext_excluded.append(user_id_ext)\n",
    "    \n",
    "    # Dataframe to store model recommendations\n",
    "    model_reco_df = pd.DataFrame()\n",
    "    \n",
    "    # Model recommendations\n",
    "    for user_id in user_id_int_list:\n",
    "        scores = model.predict(user_id, item_id_int_list, item_features)\n",
    "        top_items_ids = np.argsort(-scores)\n",
    "        top_items_ids = [item_id_map_reverse[ids] for ids in top_items_ids]\n",
    "         \n",
    "        # Individual row. Two steps are necessary for the first row to call \"user_id\"\n",
    "        #print(user_id_map_reverse[user_id], type(user_id_map_reverse[user_id]))\n",
    "        user_id_df = pd.DataFrame([user_id_map_reverse[user_id]], columns=[\"user_name\"], dtype = str)\n",
    "        top_items_ids = pd.DataFrame([top_items_ids[:k_top]])\n",
    "        user_reco_df = pd.concat([user_id_df, top_items_ids], axis=1)\n",
    "        \n",
    "        # Concatenating rows\n",
    "        model_reco_df = pd.concat([model_reco_df, user_reco_df])\n",
    "        \n",
    "        # Stop execution if memory is almost full\n",
    "        memory_circuit_breaker(memory_limit_perc)\n",
    "        \n",
    "        \n",
    "    # Non-personalized recommendations\n",
    "    non_pers_reco_df = non_pers_reco_output(user_id_ext_excluded, non_pers_reco_list)\n",
    "    \n",
    "    # Concatenating all recommendations\n",
    "    if model_reco_df.shape[0] == 0:\n",
    "        final_reco_df = non_pers_reco_df\n",
    "    elif non_pers_reco_df.shape[0] == 0:\n",
    "        final_reco_df = model_reco_df\n",
    "    else:\n",
    "        final_reco_df = pd.concat([model_reco_df, non_pers_reco_df])\n",
    "    \n",
    "    return final_reco_df"
   ]
  },
  {
   "cell_type": "code",
   "execution_count": 30,
   "metadata": {
    "tags": []
   },
   "outputs": [
    {
     "data": {
      "text/html": [
       "<div>\n",
       "<style scoped>\n",
       "    .dataframe tbody tr th:only-of-type {\n",
       "        vertical-align: middle;\n",
       "    }\n",
       "\n",
       "    .dataframe tbody tr th {\n",
       "        vertical-align: top;\n",
       "    }\n",
       "\n",
       "    .dataframe thead th {\n",
       "        text-align: right;\n",
       "    }\n",
       "</style>\n",
       "<table border=\"1\" class=\"dataframe\">\n",
       "  <thead>\n",
       "    <tr style=\"text-align: right;\">\n",
       "      <th></th>\n",
       "      <th>user_name</th>\n",
       "      <th>0</th>\n",
       "      <th>1</th>\n",
       "      <th>2</th>\n",
       "      <th>3</th>\n",
       "      <th>4</th>\n",
       "      <th>5</th>\n",
       "      <th>6</th>\n",
       "      <th>7</th>\n",
       "      <th>8</th>\n",
       "      <th>...</th>\n",
       "      <th>40</th>\n",
       "      <th>41</th>\n",
       "      <th>42</th>\n",
       "      <th>43</th>\n",
       "      <th>44</th>\n",
       "      <th>45</th>\n",
       "      <th>46</th>\n",
       "      <th>47</th>\n",
       "      <th>48</th>\n",
       "      <th>49</th>\n",
       "    </tr>\n",
       "  </thead>\n",
       "  <tbody>\n",
       "    <tr>\n",
       "      <th>0</th>\n",
       "      <td>pivnizub</td>\n",
       "      <td>46898</td>\n",
       "      <td>1014</td>\n",
       "      <td>6177</td>\n",
       "      <td>16730</td>\n",
       "      <td>42815</td>\n",
       "      <td>11942</td>\n",
       "      <td>6003</td>\n",
       "      <td>1261</td>\n",
       "      <td>2472</td>\n",
       "      <td>...</td>\n",
       "      <td>1157</td>\n",
       "      <td>73361</td>\n",
       "      <td>24532</td>\n",
       "      <td>4822</td>\n",
       "      <td>52716</td>\n",
       "      <td>4003</td>\n",
       "      <td>5419</td>\n",
       "      <td>7843</td>\n",
       "      <td>11211</td>\n",
       "      <td>44</td>\n",
       "    </tr>\n",
       "    <tr>\n",
       "      <th>0</th>\n",
       "      <td>brentfeesh</td>\n",
       "      <td>680</td>\n",
       "      <td>589</td>\n",
       "      <td>158</td>\n",
       "      <td>835</td>\n",
       "      <td>4315</td>\n",
       "      <td>46</td>\n",
       "      <td>14709</td>\n",
       "      <td>1267</td>\n",
       "      <td>10569</td>\n",
       "      <td>...</td>\n",
       "      <td>1090</td>\n",
       "      <td>1189</td>\n",
       "      <td>8837</td>\n",
       "      <td>2331</td>\n",
       "      <td>2530</td>\n",
       "      <td>132</td>\n",
       "      <td>25082</td>\n",
       "      <td>3076</td>\n",
       "      <td>1190</td>\n",
       "      <td>35488</td>\n",
       "    </tr>\n",
       "    <tr>\n",
       "      <th>0</th>\n",
       "      <td>JorisPPattyn</td>\n",
       "      <td>139</td>\n",
       "      <td>365</td>\n",
       "      <td>1316</td>\n",
       "      <td>1088</td>\n",
       "      <td>717</td>\n",
       "      <td>53</td>\n",
       "      <td>14709</td>\n",
       "      <td>10569</td>\n",
       "      <td>132</td>\n",
       "      <td>...</td>\n",
       "      <td>5107</td>\n",
       "      <td>2224</td>\n",
       "      <td>1762</td>\n",
       "      <td>48</td>\n",
       "      <td>4934</td>\n",
       "      <td>1156</td>\n",
       "      <td>288</td>\n",
       "      <td>37</td>\n",
       "      <td>1189</td>\n",
       "      <td>167</td>\n",
       "    </tr>\n",
       "    <tr>\n",
       "      <th>0</th>\n",
       "      <td>GeniusGirl</td>\n",
       "      <td>158</td>\n",
       "      <td>680</td>\n",
       "      <td>589</td>\n",
       "      <td>1267</td>\n",
       "      <td>835</td>\n",
       "      <td>14709</td>\n",
       "      <td>87</td>\n",
       "      <td>10569</td>\n",
       "      <td>365</td>\n",
       "      <td>...</td>\n",
       "      <td>45950</td>\n",
       "      <td>3022</td>\n",
       "      <td>1477</td>\n",
       "      <td>303</td>\n",
       "      <td>85</td>\n",
       "      <td>7293</td>\n",
       "      <td>424</td>\n",
       "      <td>3214</td>\n",
       "      <td>4934</td>\n",
       "      <td>421</td>\n",
       "    </tr>\n",
       "  </tbody>\n",
       "</table>\n",
       "<p>4 rows × 51 columns</p>\n",
       "</div>"
      ],
      "text/plain": [
       "      user_name      0     1     2      3      4      5      6      7      8  \\\n",
       "0      pivnizub  46898  1014  6177  16730  42815  11942   6003   1261   2472   \n",
       "0    brentfeesh    680   589   158    835   4315     46  14709   1267  10569   \n",
       "0  JorisPPattyn    139   365  1316   1088    717     53  14709  10569    132   \n",
       "0    GeniusGirl    158   680   589   1267    835  14709     87  10569    365   \n",
       "\n",
       "   ...     40     41     42    43     44    45     46    47     48     49  \n",
       "0  ...   1157  73361  24532  4822  52716  4003   5419  7843  11211     44  \n",
       "0  ...   1090   1189   8837  2331   2530   132  25082  3076   1190  35488  \n",
       "0  ...   5107   2224   1762    48   4934  1156    288    37   1189    167  \n",
       "0  ...  45950   3022   1477   303     85  7293    424  3214   4934    421  \n",
       "\n",
       "[4 rows x 51 columns]"
      ]
     },
     "execution_count": 30,
     "metadata": {},
     "output_type": "execute_result"
    }
   ],
   "source": [
    "lightFM_recommendations(lfmdataset,\n",
    "                        lfmodel,\n",
    "                        ['pivnizub', 'brentfeesh', 'JorisPPattyn', 'GeniusGirl'],\n",
    "                        non_pers_recommendations,\n",
    "                        k_top=k_top)"
   ]
  },
  {
   "cell_type": "code",
   "execution_count": 31,
   "metadata": {
    "tags": []
   },
   "outputs": [],
   "source": [
    "collab_reco_val = lightFM_recommendations(lfmdataset, lfmodel, users_val, non_pers_recommendations, k_top=k_top)"
   ]
  },
  {
   "cell_type": "code",
   "execution_count": 32,
   "metadata": {
    "tags": []
   },
   "outputs": [
    {
     "data": {
      "text/html": [
       "<div>\n",
       "<style scoped>\n",
       "    .dataframe tbody tr th:only-of-type {\n",
       "        vertical-align: middle;\n",
       "    }\n",
       "\n",
       "    .dataframe tbody tr th {\n",
       "        vertical-align: top;\n",
       "    }\n",
       "\n",
       "    .dataframe thead th {\n",
       "        text-align: right;\n",
       "    }\n",
       "</style>\n",
       "<table border=\"1\" class=\"dataframe\">\n",
       "  <thead>\n",
       "    <tr style=\"text-align: right;\">\n",
       "      <th></th>\n",
       "      <th>user_name</th>\n",
       "      <th>0</th>\n",
       "      <th>1</th>\n",
       "      <th>2</th>\n",
       "      <th>3</th>\n",
       "      <th>4</th>\n",
       "      <th>5</th>\n",
       "      <th>6</th>\n",
       "      <th>7</th>\n",
       "      <th>8</th>\n",
       "      <th>...</th>\n",
       "      <th>40</th>\n",
       "      <th>41</th>\n",
       "      <th>42</th>\n",
       "      <th>43</th>\n",
       "      <th>44</th>\n",
       "      <th>45</th>\n",
       "      <th>46</th>\n",
       "      <th>47</th>\n",
       "      <th>48</th>\n",
       "      <th>49</th>\n",
       "    </tr>\n",
       "  </thead>\n",
       "  <tbody>\n",
       "    <tr>\n",
       "      <th>0</th>\n",
       "      <td>pilsnerrogge</td>\n",
       "      <td>139</td>\n",
       "      <td>365</td>\n",
       "      <td>10569</td>\n",
       "      <td>14709</td>\n",
       "      <td>53</td>\n",
       "      <td>717</td>\n",
       "      <td>1088</td>\n",
       "      <td>1316</td>\n",
       "      <td>1926</td>\n",
       "      <td>...</td>\n",
       "      <td>48</td>\n",
       "      <td>37</td>\n",
       "      <td>709</td>\n",
       "      <td>94</td>\n",
       "      <td>167</td>\n",
       "      <td>9183</td>\n",
       "      <td>630</td>\n",
       "      <td>1763</td>\n",
       "      <td>618</td>\n",
       "      <td>1156</td>\n",
       "    </tr>\n",
       "    <tr>\n",
       "      <th>0</th>\n",
       "      <td>mar</td>\n",
       "      <td>589</td>\n",
       "      <td>680</td>\n",
       "      <td>1087</td>\n",
       "      <td>531</td>\n",
       "      <td>4315</td>\n",
       "      <td>46</td>\n",
       "      <td>835</td>\n",
       "      <td>371</td>\n",
       "      <td>14709</td>\n",
       "      <td>...</td>\n",
       "      <td>619</td>\n",
       "      <td>8909</td>\n",
       "      <td>2331</td>\n",
       "      <td>424</td>\n",
       "      <td>53</td>\n",
       "      <td>1190</td>\n",
       "      <td>717</td>\n",
       "      <td>35488</td>\n",
       "      <td>39508</td>\n",
       "      <td>1189</td>\n",
       "    </tr>\n",
       "    <tr>\n",
       "      <th>0</th>\n",
       "      <td>Sammy</td>\n",
       "      <td>589</td>\n",
       "      <td>835</td>\n",
       "      <td>46</td>\n",
       "      <td>1087</td>\n",
       "      <td>87</td>\n",
       "      <td>4315</td>\n",
       "      <td>680</td>\n",
       "      <td>14709</td>\n",
       "      <td>158</td>\n",
       "      <td>...</td>\n",
       "      <td>10514</td>\n",
       "      <td>51</td>\n",
       "      <td>2224</td>\n",
       "      <td>45950</td>\n",
       "      <td>37652</td>\n",
       "      <td>421</td>\n",
       "      <td>133</td>\n",
       "      <td>3214</td>\n",
       "      <td>132</td>\n",
       "      <td>39654</td>\n",
       "    </tr>\n",
       "    <tr>\n",
       "      <th>0</th>\n",
       "      <td>HonkeyBra</td>\n",
       "      <td>680</td>\n",
       "      <td>589</td>\n",
       "      <td>531</td>\n",
       "      <td>4315</td>\n",
       "      <td>158</td>\n",
       "      <td>46</td>\n",
       "      <td>10569</td>\n",
       "      <td>14709</td>\n",
       "      <td>835</td>\n",
       "      <td>...</td>\n",
       "      <td>35488</td>\n",
       "      <td>619</td>\n",
       "      <td>25082</td>\n",
       "      <td>1090</td>\n",
       "      <td>909</td>\n",
       "      <td>131958</td>\n",
       "      <td>742</td>\n",
       "      <td>32751</td>\n",
       "      <td>13667</td>\n",
       "      <td>39654</td>\n",
       "    </tr>\n",
       "    <tr>\n",
       "      <th>0</th>\n",
       "      <td>DTM</td>\n",
       "      <td>589</td>\n",
       "      <td>46</td>\n",
       "      <td>10569</td>\n",
       "      <td>4315</td>\n",
       "      <td>14709</td>\n",
       "      <td>835</td>\n",
       "      <td>680</td>\n",
       "      <td>158</td>\n",
       "      <td>87</td>\n",
       "      <td>...</td>\n",
       "      <td>8048</td>\n",
       "      <td>133</td>\n",
       "      <td>3022</td>\n",
       "      <td>132</td>\n",
       "      <td>473</td>\n",
       "      <td>303</td>\n",
       "      <td>2331</td>\n",
       "      <td>2530</td>\n",
       "      <td>619</td>\n",
       "      <td>742</td>\n",
       "    </tr>\n",
       "  </tbody>\n",
       "</table>\n",
       "<p>5 rows × 51 columns</p>\n",
       "</div>"
      ],
      "text/plain": [
       "      user_name    0    1      2      3      4     5      6      7      8  \\\n",
       "0  pilsnerrogge  139  365  10569  14709     53   717   1088   1316   1926   \n",
       "0           mar  589  680   1087    531   4315    46    835    371  14709   \n",
       "0         Sammy  589  835     46   1087     87  4315    680  14709    158   \n",
       "0     HonkeyBra  680  589    531   4315    158    46  10569  14709    835   \n",
       "0           DTM  589   46  10569   4315  14709   835    680    158     87   \n",
       "\n",
       "   ...     40    41     42     43     44      45    46     47     48     49  \n",
       "0  ...     48    37    709     94    167    9183   630   1763    618   1156  \n",
       "0  ...    619  8909   2331    424     53    1190   717  35488  39508   1189  \n",
       "0  ...  10514    51   2224  45950  37652     421   133   3214    132  39654  \n",
       "0  ...  35488   619  25082   1090    909  131958   742  32751  13667  39654  \n",
       "0  ...   8048   133   3022    132    473     303  2331   2530    619    742  \n",
       "\n",
       "[5 rows x 51 columns]"
      ]
     },
     "execution_count": 32,
     "metadata": {},
     "output_type": "execute_result"
    }
   ],
   "source": [
    "collab_reco_val.head()"
   ]
  },
  {
   "cell_type": "code",
   "execution_count": 33,
   "metadata": {
    "tags": []
   },
   "outputs": [
    {
     "data": {
      "text/html": [
       "<div>\n",
       "<style scoped>\n",
       "    .dataframe tbody tr th:only-of-type {\n",
       "        vertical-align: middle;\n",
       "    }\n",
       "\n",
       "    .dataframe tbody tr th {\n",
       "        vertical-align: top;\n",
       "    }\n",
       "\n",
       "    .dataframe thead th {\n",
       "        text-align: right;\n",
       "    }\n",
       "</style>\n",
       "<table border=\"1\" class=\"dataframe\">\n",
       "  <thead>\n",
       "    <tr style=\"text-align: right;\">\n",
       "      <th></th>\n",
       "      <th>user_name</th>\n",
       "    </tr>\n",
       "  </thead>\n",
       "  <tbody>\n",
       "    <tr>\n",
       "      <th>0</th>\n",
       "      <td>pilsnerrogge</td>\n",
       "    </tr>\n",
       "    <tr>\n",
       "      <th>0</th>\n",
       "      <td>mar</td>\n",
       "    </tr>\n",
       "    <tr>\n",
       "      <th>0</th>\n",
       "      <td>Sammy</td>\n",
       "    </tr>\n",
       "    <tr>\n",
       "      <th>0</th>\n",
       "      <td>HonkeyBra</td>\n",
       "    </tr>\n",
       "    <tr>\n",
       "      <th>0</th>\n",
       "      <td>DTM</td>\n",
       "    </tr>\n",
       "  </tbody>\n",
       "</table>\n",
       "</div>"
      ],
      "text/plain": [
       "      user_name\n",
       "0  pilsnerrogge\n",
       "0           mar\n",
       "0         Sammy\n",
       "0     HonkeyBra\n",
       "0           DTM"
      ]
     },
     "execution_count": 33,
     "metadata": {},
     "output_type": "execute_result"
    }
   ],
   "source": [
    "output_col_reco = pd.DataFrame(collab_reco_val['user_name'])\n",
    "output_col_reco.head()"
   ]
  },
  {
   "cell_type": "code",
   "execution_count": 34,
   "metadata": {
    "tags": []
   },
   "outputs": [
    {
     "data": {
      "text/html": [
       "<div>\n",
       "<style scoped>\n",
       "    .dataframe tbody tr th:only-of-type {\n",
       "        vertical-align: middle;\n",
       "    }\n",
       "\n",
       "    .dataframe tbody tr th {\n",
       "        vertical-align: top;\n",
       "    }\n",
       "\n",
       "    .dataframe thead th {\n",
       "        text-align: right;\n",
       "    }\n",
       "</style>\n",
       "<table border=\"1\" class=\"dataframe\">\n",
       "  <thead>\n",
       "    <tr style=\"text-align: right;\">\n",
       "      <th></th>\n",
       "      <th>user_name</th>\n",
       "      <th>reco</th>\n",
       "    </tr>\n",
       "  </thead>\n",
       "  <tbody>\n",
       "    <tr>\n",
       "      <th>0</th>\n",
       "      <td>pilsnerrogge</td>\n",
       "      <td>[139, 365, 10569, 14709, 53, 717, 1088, 1316, ...</td>\n",
       "    </tr>\n",
       "    <tr>\n",
       "      <th>0</th>\n",
       "      <td>mar</td>\n",
       "      <td>[589, 680, 1087, 531, 4315, 46, 835, 371, 1470...</td>\n",
       "    </tr>\n",
       "    <tr>\n",
       "      <th>0</th>\n",
       "      <td>Sammy</td>\n",
       "      <td>[589, 835, 46, 1087, 87, 4315, 680, 14709, 158...</td>\n",
       "    </tr>\n",
       "    <tr>\n",
       "      <th>0</th>\n",
       "      <td>HonkeyBra</td>\n",
       "      <td>[680, 589, 531, 4315, 158, 46, 10569, 14709, 8...</td>\n",
       "    </tr>\n",
       "    <tr>\n",
       "      <th>0</th>\n",
       "      <td>DTM</td>\n",
       "      <td>[589, 46, 10569, 4315, 14709, 835, 680, 158, 8...</td>\n",
       "    </tr>\n",
       "  </tbody>\n",
       "</table>\n",
       "</div>"
      ],
      "text/plain": [
       "      user_name                                               reco\n",
       "0  pilsnerrogge  [139, 365, 10569, 14709, 53, 717, 1088, 1316, ...\n",
       "0           mar  [589, 680, 1087, 531, 4315, 46, 835, 371, 1470...\n",
       "0         Sammy  [589, 835, 46, 1087, 87, 4315, 680, 14709, 158...\n",
       "0     HonkeyBra  [680, 589, 531, 4315, 158, 46, 10569, 14709, 8...\n",
       "0           DTM  [589, 46, 10569, 4315, 14709, 835, 680, 158, 8..."
      ]
     },
     "execution_count": 34,
     "metadata": {},
     "output_type": "execute_result"
    }
   ],
   "source": [
    "output_col_reco = output_col_reco.assign(reco=[x.tolist() for x in collab_reco_val.set_index(\"user_name\").values])\n",
    "output_col_reco.head()"
   ]
  },
  {
   "cell_type": "code",
   "execution_count": 35,
   "metadata": {
    "tags": []
   },
   "outputs": [
    {
     "data": {
      "text/plain": [
       "dict"
      ]
     },
     "execution_count": 35,
     "metadata": {},
     "output_type": "execute_result"
    }
   ],
   "source": [
    "type(output_col_reco.set_index('user_name').to_dict()[\"reco\"])"
   ]
  },
  {
   "cell_type": "code",
   "execution_count": 36,
   "metadata": {
    "tags": []
   },
   "outputs": [],
   "source": [
    "def export_json(file_name, df ):\n",
    "    dict_ = df.set_index('user_name').to_dict()[\"reco\"]\n",
    "\n",
    "    with open(file_name, \"w\") as outfile:\n",
    "        json.dump(dict_, outfile)"
   ]
  },
  {
   "cell_type": "code",
   "execution_count": 182,
   "metadata": {
    "tags": []
   },
   "outputs": [],
   "source": [
    "export_json('output_collab_reco.json', output_col_reco)"
   ]
  },
  {
   "cell_type": "code",
   "execution_count": null,
   "metadata": {},
   "outputs": [],
   "source": []
  },
  {
   "cell_type": "code",
   "execution_count": 150,
   "metadata": {
    "tags": []
   },
   "outputs": [],
   "source": [
    "def save_recommendations(df: pd.DataFrame, file_name: str):\n",
    "    \"\"\"\n",
    "    Save recommendation dataframe as .csv.\n",
    "    \"\"\"\n",
    "    \n",
    "    file_path = os.path.join(\"data\", f\"{file_name}.csv\")\n",
    "    df.to_csv(file_path, index=False, header=False)\n",
    "    print(f\"Recommendations were saved on file {file_name}.csv.\")"
   ]
  },
  {
   "cell_type": "code",
   "execution_count": 183,
   "metadata": {
    "tags": []
   },
   "outputs": [
    {
     "name": "stdout",
     "output_type": "stream",
     "text": [
      "Recommendations were saved on file collaborative_recommendations_VAL.csv.\n"
     ]
    }
   ],
   "source": [
    "save_recommendations(collab_reco_val, 'collaborative_recommendations_VAL')"
   ]
  },
  {
   "cell_type": "code",
   "execution_count": 184,
   "metadata": {
    "tags": []
   },
   "outputs": [
    {
     "name": "stdout",
     "output_type": "stream",
     "text": [
      "Recommendations were saved on file validation_recommendations.csv.\n"
     ]
    }
   ],
   "source": [
    "save_recommendations(val_recommendations, 'validation_recommendations')"
   ]
  },
  {
   "cell_type": "code",
   "execution_count": 185,
   "metadata": {
    "tags": []
   },
   "outputs": [
    {
     "data": {
      "text/plain": [
       "6.862937833295255e-07"
      ]
     },
     "execution_count": 185,
     "metadata": {},
     "output_type": "execute_result"
    }
   ],
   "source": [
    "evaluate_solution('collaborative_recommendations_VAL', 'validation_recommendations')"
   ]
  },
  {
   "cell_type": "markdown",
   "metadata": {},
   "source": [
    "#### For submission"
   ]
  },
  {
   "cell_type": "code",
   "execution_count": 192,
   "metadata": {
    "tags": []
   },
   "outputs": [],
   "source": [
    "test_users_list = test_users['user_name'].tolist()"
   ]
  },
  {
   "cell_type": "code",
   "execution_count": 193,
   "metadata": {
    "tags": []
   },
   "outputs": [],
   "source": [
    "submission_lightFM_1 = lightFM_recommendations(lfmdataset, \n",
    "                                               lfmodel, \n",
    "                                               test_users_list, \n",
    "                                               non_pers_recommendations, \n",
    "                                               k_top=k_top)"
   ]
  },
  {
   "cell_type": "code",
   "execution_count": 194,
   "metadata": {
    "tags": []
   },
   "outputs": [
    {
     "data": {
      "text/html": [
       "<div>\n",
       "<style scoped>\n",
       "    .dataframe tbody tr th:only-of-type {\n",
       "        vertical-align: middle;\n",
       "    }\n",
       "\n",
       "    .dataframe tbody tr th {\n",
       "        vertical-align: top;\n",
       "    }\n",
       "\n",
       "    .dataframe thead th {\n",
       "        text-align: right;\n",
       "    }\n",
       "</style>\n",
       "<table border=\"1\" class=\"dataframe\">\n",
       "  <thead>\n",
       "    <tr style=\"text-align: right;\">\n",
       "      <th></th>\n",
       "      <th>user_name</th>\n",
       "      <th>0</th>\n",
       "      <th>1</th>\n",
       "      <th>2</th>\n",
       "      <th>3</th>\n",
       "      <th>4</th>\n",
       "      <th>5</th>\n",
       "      <th>6</th>\n",
       "      <th>7</th>\n",
       "      <th>8</th>\n",
       "      <th>...</th>\n",
       "      <th>41</th>\n",
       "      <th>42</th>\n",
       "      <th>43</th>\n",
       "      <th>44</th>\n",
       "      <th>45</th>\n",
       "      <th>46</th>\n",
       "      <th>47</th>\n",
       "      <th>48</th>\n",
       "      <th>49</th>\n",
       "      <th>user_id</th>\n",
       "    </tr>\n",
       "  </thead>\n",
       "  <tbody>\n",
       "    <tr>\n",
       "      <th>0</th>\n",
       "      <td>wlajwl</td>\n",
       "      <td>707</td>\n",
       "      <td>46</td>\n",
       "      <td>10569</td>\n",
       "      <td>365</td>\n",
       "      <td>51</td>\n",
       "      <td>158</td>\n",
       "      <td>3214</td>\n",
       "      <td>1502</td>\n",
       "      <td>680</td>\n",
       "      <td>...</td>\n",
       "      <td>1189</td>\n",
       "      <td>421</td>\n",
       "      <td>836</td>\n",
       "      <td>13667</td>\n",
       "      <td>2224</td>\n",
       "      <td>591</td>\n",
       "      <td>7177</td>\n",
       "      <td>1608</td>\n",
       "      <td>37</td>\n",
       "      <td>NaN</td>\n",
       "    </tr>\n",
       "    <tr>\n",
       "      <th>0</th>\n",
       "      <td>BigBang</td>\n",
       "      <td>680</td>\n",
       "      <td>10569</td>\n",
       "      <td>46</td>\n",
       "      <td>365</td>\n",
       "      <td>1267</td>\n",
       "      <td>589</td>\n",
       "      <td>3214</td>\n",
       "      <td>835</td>\n",
       "      <td>158</td>\n",
       "      <td>...</td>\n",
       "      <td>367</td>\n",
       "      <td>2224</td>\n",
       "      <td>1189</td>\n",
       "      <td>717</td>\n",
       "      <td>884</td>\n",
       "      <td>7293</td>\n",
       "      <td>139</td>\n",
       "      <td>3209</td>\n",
       "      <td>37</td>\n",
       "      <td>NaN</td>\n",
       "    </tr>\n",
       "    <tr>\n",
       "      <th>0</th>\n",
       "      <td>GhostFace</td>\n",
       "      <td>10569</td>\n",
       "      <td>3214</td>\n",
       "      <td>1267</td>\n",
       "      <td>680</td>\n",
       "      <td>589</td>\n",
       "      <td>1502</td>\n",
       "      <td>46</td>\n",
       "      <td>365</td>\n",
       "      <td>422</td>\n",
       "      <td>...</td>\n",
       "      <td>37</td>\n",
       "      <td>87</td>\n",
       "      <td>399</td>\n",
       "      <td>32751</td>\n",
       "      <td>836</td>\n",
       "      <td>139</td>\n",
       "      <td>37652</td>\n",
       "      <td>421</td>\n",
       "      <td>1921</td>\n",
       "      <td>NaN</td>\n",
       "    </tr>\n",
       "    <tr>\n",
       "      <th>0</th>\n",
       "      <td>sbanach</td>\n",
       "      <td>1267</td>\n",
       "      <td>3214</td>\n",
       "      <td>10569</td>\n",
       "      <td>1502</td>\n",
       "      <td>680</td>\n",
       "      <td>365</td>\n",
       "      <td>11243</td>\n",
       "      <td>1315</td>\n",
       "      <td>589</td>\n",
       "      <td>...</td>\n",
       "      <td>22904</td>\n",
       "      <td>87</td>\n",
       "      <td>139</td>\n",
       "      <td>707</td>\n",
       "      <td>4456</td>\n",
       "      <td>171</td>\n",
       "      <td>5596</td>\n",
       "      <td>421</td>\n",
       "      <td>3076</td>\n",
       "      <td>NaN</td>\n",
       "    </tr>\n",
       "    <tr>\n",
       "      <th>0</th>\n",
       "      <td>IrishBoy</td>\n",
       "      <td>707</td>\n",
       "      <td>46</td>\n",
       "      <td>3214</td>\n",
       "      <td>10569</td>\n",
       "      <td>680</td>\n",
       "      <td>1502</td>\n",
       "      <td>589</td>\n",
       "      <td>1266</td>\n",
       "      <td>422</td>\n",
       "      <td>...</td>\n",
       "      <td>742</td>\n",
       "      <td>1189</td>\n",
       "      <td>7178</td>\n",
       "      <td>1090</td>\n",
       "      <td>14709</td>\n",
       "      <td>41297</td>\n",
       "      <td>7293</td>\n",
       "      <td>1608</td>\n",
       "      <td>836</td>\n",
       "      <td>NaN</td>\n",
       "    </tr>\n",
       "  </tbody>\n",
       "</table>\n",
       "<p>5 rows × 52 columns</p>\n",
       "</div>"
      ],
      "text/plain": [
       "   user_name      0      1      2      3     4     5      6     7    8  ...  \\\n",
       "0     wlajwl    707     46  10569    365    51   158   3214  1502  680  ...   \n",
       "0    BigBang    680  10569     46    365  1267   589   3214   835  158  ...   \n",
       "0  GhostFace  10569   3214   1267    680   589  1502     46   365  422  ...   \n",
       "0    sbanach   1267   3214  10569   1502   680   365  11243  1315  589  ...   \n",
       "0   IrishBoy    707     46   3214  10569   680  1502    589  1266  422  ...   \n",
       "\n",
       "      41    42    43     44     45     46     47    48    49  user_id  \n",
       "0   1189   421   836  13667   2224    591   7177  1608    37      NaN  \n",
       "0    367  2224  1189    717    884   7293    139  3209    37      NaN  \n",
       "0     37    87   399  32751    836    139  37652   421  1921      NaN  \n",
       "0  22904    87   139    707   4456    171   5596   421  3076      NaN  \n",
       "0    742  1189  7178   1090  14709  41297   7293  1608   836      NaN  \n",
       "\n",
       "[5 rows x 52 columns]"
      ]
     },
     "execution_count": 194,
     "metadata": {},
     "output_type": "execute_result"
    }
   ],
   "source": [
    "submission_lightFM_1.head()"
   ]
  },
  {
   "cell_type": "markdown",
   "metadata": {},
   "source": [
    "### with features"
   ]
  },
  {
   "cell_type": "code",
   "execution_count": 195,
   "metadata": {
    "tags": []
   },
   "outputs": [
    {
     "data": {
      "text/html": [
       "<div>\n",
       "<style scoped>\n",
       "    .dataframe tbody tr th:only-of-type {\n",
       "        vertical-align: middle;\n",
       "    }\n",
       "\n",
       "    .dataframe tbody tr th {\n",
       "        vertical-align: top;\n",
       "    }\n",
       "\n",
       "    .dataframe thead th {\n",
       "        text-align: right;\n",
       "    }\n",
       "</style>\n",
       "<table border=\"1\" class=\"dataframe\">\n",
       "  <thead>\n",
       "    <tr style=\"text-align: right;\">\n",
       "      <th></th>\n",
       "      <th>beer_id</th>\n",
       "      <th>beer_name</th>\n",
       "      <th>beer_abv</th>\n",
       "      <th>beer_style</th>\n",
       "    </tr>\n",
       "  </thead>\n",
       "  <tbody>\n",
       "    <tr>\n",
       "      <th>0</th>\n",
       "      <td>63836</td>\n",
       "      <td>John Harvards Simcoe IPA</td>\n",
       "      <td>5.4</td>\n",
       "      <td>India Pale Ale &amp;#40;IPA&amp;#41;</td>\n",
       "    </tr>\n",
       "    <tr>\n",
       "      <th>1</th>\n",
       "      <td>71716</td>\n",
       "      <td>John Harvards Cristal Pilsner</td>\n",
       "      <td>5.0</td>\n",
       "      <td>Bohemian Pilsener</td>\n",
       "    </tr>\n",
       "    <tr>\n",
       "      <th>2</th>\n",
       "      <td>64125</td>\n",
       "      <td>John Harvards Fancy Lawnmower Beer</td>\n",
       "      <td>5.4</td>\n",
       "      <td>Klsch</td>\n",
       "    </tr>\n",
       "    <tr>\n",
       "      <th>3</th>\n",
       "      <td>31544</td>\n",
       "      <td>John Harvards Vanilla Black Velvet Stout</td>\n",
       "      <td>NaN</td>\n",
       "      <td>Sweet Stout</td>\n",
       "    </tr>\n",
       "    <tr>\n",
       "      <th>4</th>\n",
       "      <td>71714</td>\n",
       "      <td>John Harvards American Brown Ale</td>\n",
       "      <td>NaN</td>\n",
       "      <td>Brown Ale</td>\n",
       "    </tr>\n",
       "    <tr>\n",
       "      <th>...</th>\n",
       "      <td>...</td>\n",
       "      <td>...</td>\n",
       "      <td>...</td>\n",
       "      <td>...</td>\n",
       "    </tr>\n",
       "    <tr>\n",
       "      <th>112044</th>\n",
       "      <td>25876</td>\n",
       "      <td>Pyramid Underground Porter</td>\n",
       "      <td>5.5</td>\n",
       "      <td>Porter</td>\n",
       "    </tr>\n",
       "    <tr>\n",
       "      <th>112045</th>\n",
       "      <td>958</td>\n",
       "      <td>Pyramid Best Brown</td>\n",
       "      <td>5.1</td>\n",
       "      <td>Brown Ale</td>\n",
       "    </tr>\n",
       "    <tr>\n",
       "      <th>112046</th>\n",
       "      <td>959</td>\n",
       "      <td>Pyramid Espresso Stout</td>\n",
       "      <td>NaN</td>\n",
       "      <td>Sweet Stout</td>\n",
       "    </tr>\n",
       "    <tr>\n",
       "      <th>112047</th>\n",
       "      <td>98518</td>\n",
       "      <td>Pyramid Rollick Amber Lager</td>\n",
       "      <td>6.0</td>\n",
       "      <td>Amber Ale</td>\n",
       "    </tr>\n",
       "    <tr>\n",
       "      <th>112048</th>\n",
       "      <td>98914</td>\n",
       "      <td>Pyramid Snow Cap&amp;#40;&amp;#8217;n &amp; Tennille&amp;#41;</td>\n",
       "      <td>7.0</td>\n",
       "      <td>English Strong Ale</td>\n",
       "    </tr>\n",
       "  </tbody>\n",
       "</table>\n",
       "<p>110249 rows × 4 columns</p>\n",
       "</div>"
      ],
      "text/plain": [
       "        beer_id                                      beer_name  beer_abv  \\\n",
       "0         63836                       John Harvards Simcoe IPA       5.4   \n",
       "1         71716                  John Harvards Cristal Pilsner       5.0   \n",
       "2         64125             John Harvards Fancy Lawnmower Beer       5.4   \n",
       "3         31544       John Harvards Vanilla Black Velvet Stout       NaN   \n",
       "4         71714               John Harvards American Brown Ale       NaN   \n",
       "...         ...                                            ...       ...   \n",
       "112044    25876                     Pyramid Underground Porter       5.5   \n",
       "112045      958                             Pyramid Best Brown       5.1   \n",
       "112046      959                         Pyramid Espresso Stout       NaN   \n",
       "112047    98518                    Pyramid Rollick Amber Lager       6.0   \n",
       "112048    98914  Pyramid Snow Cap&#40;&#8217;n & Tennille&#41;       7.0   \n",
       "\n",
       "                          beer_style  \n",
       "0       India Pale Ale &#40;IPA&#41;  \n",
       "1                  Bohemian Pilsener  \n",
       "2                              Klsch  \n",
       "3                        Sweet Stout  \n",
       "4                          Brown Ale  \n",
       "...                              ...  \n",
       "112044                        Porter  \n",
       "112045                     Brown Ale  \n",
       "112046                   Sweet Stout  \n",
       "112047                     Amber Ale  \n",
       "112048            English Strong Ale  \n",
       "\n",
       "[110249 rows x 4 columns]"
      ]
     },
     "execution_count": 195,
     "metadata": {},
     "output_type": "execute_result"
    }
   ],
   "source": [
    "metadata_transformed = beers.copy()\n",
    "metadata_transformed[\"beer_id\"] = pd.to_numeric(metadata_transformed['beer_id'], errors='coerce')\n",
    "metadata_transformed.dropna(how=\"any\", inplace=True)\n",
    "metadata_transformed[\"beer_id\"] = metadata_transformed['beer_id'].astype(\"int\")\n",
    "metadata_transformed = metadata_transformed.drop(columns=[\"brewer_id\"])\n",
    "metadata_transformed = metadata_transformed.drop_duplicates()\n",
    "metadata_transformed['beer_abv'] = pd.to_numeric(metadata_transformed['beer_abv'], errors='coerce')\n",
    "metadata_transformed"
   ]
  },
  {
   "cell_type": "code",
   "execution_count": 196,
   "metadata": {
    "tags": []
   },
   "outputs": [
    {
     "data": {
      "text/html": [
       "<div>\n",
       "<style scoped>\n",
       "    .dataframe tbody tr th:only-of-type {\n",
       "        vertical-align: middle;\n",
       "    }\n",
       "\n",
       "    .dataframe tbody tr th {\n",
       "        vertical-align: top;\n",
       "    }\n",
       "\n",
       "    .dataframe thead th {\n",
       "        text-align: right;\n",
       "    }\n",
       "</style>\n",
       "<table border=\"1\" class=\"dataframe\">\n",
       "  <thead>\n",
       "    <tr style=\"text-align: right;\">\n",
       "      <th></th>\n",
       "      <th>Abbey Dubbel</th>\n",
       "      <th>Abbey Tripel</th>\n",
       "      <th>Abt/Quadrupel</th>\n",
       "      <th>Altbier</th>\n",
       "      <th>Amber Ale</th>\n",
       "      <th>American Dark Lager</th>\n",
       "      <th>American Pale Ale</th>\n",
       "      <th>American Strong Ale</th>\n",
       "      <th>Baltic Porter</th>\n",
       "      <th>Barley Wine</th>\n",
       "      <th>...</th>\n",
       "      <th>Spice/Herb/Vegetable</th>\n",
       "      <th>Stout</th>\n",
       "      <th>Strong Pale Lager/Imperial Pils</th>\n",
       "      <th>Sweet Stout</th>\n",
       "      <th>Traditional Ale</th>\n",
       "      <th>Vienna</th>\n",
       "      <th>Weizen Bock</th>\n",
       "      <th>Wheat Ale</th>\n",
       "      <th>Zwickel/Keller/Landbier</th>\n",
       "      <th>beer_abv</th>\n",
       "    </tr>\n",
       "    <tr>\n",
       "      <th>beer_id</th>\n",
       "      <th></th>\n",
       "      <th></th>\n",
       "      <th></th>\n",
       "      <th></th>\n",
       "      <th></th>\n",
       "      <th></th>\n",
       "      <th></th>\n",
       "      <th></th>\n",
       "      <th></th>\n",
       "      <th></th>\n",
       "      <th></th>\n",
       "      <th></th>\n",
       "      <th></th>\n",
       "      <th></th>\n",
       "      <th></th>\n",
       "      <th></th>\n",
       "      <th></th>\n",
       "      <th></th>\n",
       "      <th></th>\n",
       "      <th></th>\n",
       "      <th></th>\n",
       "    </tr>\n",
       "  </thead>\n",
       "  <tbody>\n",
       "    <tr>\n",
       "      <th>63836</th>\n",
       "      <td>0</td>\n",
       "      <td>0</td>\n",
       "      <td>0</td>\n",
       "      <td>0</td>\n",
       "      <td>0</td>\n",
       "      <td>0</td>\n",
       "      <td>0</td>\n",
       "      <td>0</td>\n",
       "      <td>0</td>\n",
       "      <td>0</td>\n",
       "      <td>...</td>\n",
       "      <td>0</td>\n",
       "      <td>0</td>\n",
       "      <td>0</td>\n",
       "      <td>0</td>\n",
       "      <td>0</td>\n",
       "      <td>0</td>\n",
       "      <td>0</td>\n",
       "      <td>0</td>\n",
       "      <td>0</td>\n",
       "      <td>-0.249642</td>\n",
       "    </tr>\n",
       "    <tr>\n",
       "      <th>71716</th>\n",
       "      <td>0</td>\n",
       "      <td>0</td>\n",
       "      <td>0</td>\n",
       "      <td>0</td>\n",
       "      <td>0</td>\n",
       "      <td>0</td>\n",
       "      <td>0</td>\n",
       "      <td>0</td>\n",
       "      <td>0</td>\n",
       "      <td>0</td>\n",
       "      <td>...</td>\n",
       "      <td>0</td>\n",
       "      <td>0</td>\n",
       "      <td>0</td>\n",
       "      <td>0</td>\n",
       "      <td>0</td>\n",
       "      <td>0</td>\n",
       "      <td>0</td>\n",
       "      <td>0</td>\n",
       "      <td>0</td>\n",
       "      <td>-0.451629</td>\n",
       "    </tr>\n",
       "    <tr>\n",
       "      <th>64125</th>\n",
       "      <td>0</td>\n",
       "      <td>0</td>\n",
       "      <td>0</td>\n",
       "      <td>0</td>\n",
       "      <td>0</td>\n",
       "      <td>0</td>\n",
       "      <td>0</td>\n",
       "      <td>0</td>\n",
       "      <td>0</td>\n",
       "      <td>0</td>\n",
       "      <td>...</td>\n",
       "      <td>0</td>\n",
       "      <td>0</td>\n",
       "      <td>0</td>\n",
       "      <td>0</td>\n",
       "      <td>0</td>\n",
       "      <td>0</td>\n",
       "      <td>0</td>\n",
       "      <td>0</td>\n",
       "      <td>0</td>\n",
       "      <td>-0.249642</td>\n",
       "    </tr>\n",
       "    <tr>\n",
       "      <th>31544</th>\n",
       "      <td>0</td>\n",
       "      <td>0</td>\n",
       "      <td>0</td>\n",
       "      <td>0</td>\n",
       "      <td>0</td>\n",
       "      <td>0</td>\n",
       "      <td>0</td>\n",
       "      <td>0</td>\n",
       "      <td>0</td>\n",
       "      <td>0</td>\n",
       "      <td>...</td>\n",
       "      <td>0</td>\n",
       "      <td>0</td>\n",
       "      <td>0</td>\n",
       "      <td>1</td>\n",
       "      <td>0</td>\n",
       "      <td>0</td>\n",
       "      <td>0</td>\n",
       "      <td>0</td>\n",
       "      <td>0</td>\n",
       "      <td>-0.050877</td>\n",
       "    </tr>\n",
       "    <tr>\n",
       "      <th>71714</th>\n",
       "      <td>0</td>\n",
       "      <td>0</td>\n",
       "      <td>0</td>\n",
       "      <td>0</td>\n",
       "      <td>0</td>\n",
       "      <td>0</td>\n",
       "      <td>0</td>\n",
       "      <td>0</td>\n",
       "      <td>0</td>\n",
       "      <td>0</td>\n",
       "      <td>...</td>\n",
       "      <td>0</td>\n",
       "      <td>0</td>\n",
       "      <td>0</td>\n",
       "      <td>0</td>\n",
       "      <td>0</td>\n",
       "      <td>0</td>\n",
       "      <td>0</td>\n",
       "      <td>0</td>\n",
       "      <td>0</td>\n",
       "      <td>-0.210633</td>\n",
       "    </tr>\n",
       "    <tr>\n",
       "      <th>...</th>\n",
       "      <td>...</td>\n",
       "      <td>...</td>\n",
       "      <td>...</td>\n",
       "      <td>...</td>\n",
       "      <td>...</td>\n",
       "      <td>...</td>\n",
       "      <td>...</td>\n",
       "      <td>...</td>\n",
       "      <td>...</td>\n",
       "      <td>...</td>\n",
       "      <td>...</td>\n",
       "      <td>...</td>\n",
       "      <td>...</td>\n",
       "      <td>...</td>\n",
       "      <td>...</td>\n",
       "      <td>...</td>\n",
       "      <td>...</td>\n",
       "      <td>...</td>\n",
       "      <td>...</td>\n",
       "      <td>...</td>\n",
       "      <td>...</td>\n",
       "    </tr>\n",
       "    <tr>\n",
       "      <th>25876</th>\n",
       "      <td>0</td>\n",
       "      <td>0</td>\n",
       "      <td>0</td>\n",
       "      <td>0</td>\n",
       "      <td>0</td>\n",
       "      <td>0</td>\n",
       "      <td>0</td>\n",
       "      <td>0</td>\n",
       "      <td>0</td>\n",
       "      <td>0</td>\n",
       "      <td>...</td>\n",
       "      <td>0</td>\n",
       "      <td>0</td>\n",
       "      <td>0</td>\n",
       "      <td>0</td>\n",
       "      <td>0</td>\n",
       "      <td>0</td>\n",
       "      <td>0</td>\n",
       "      <td>0</td>\n",
       "      <td>0</td>\n",
       "      <td>-0.199146</td>\n",
       "    </tr>\n",
       "    <tr>\n",
       "      <th>958</th>\n",
       "      <td>0</td>\n",
       "      <td>0</td>\n",
       "      <td>0</td>\n",
       "      <td>0</td>\n",
       "      <td>0</td>\n",
       "      <td>0</td>\n",
       "      <td>0</td>\n",
       "      <td>0</td>\n",
       "      <td>0</td>\n",
       "      <td>0</td>\n",
       "      <td>...</td>\n",
       "      <td>0</td>\n",
       "      <td>0</td>\n",
       "      <td>0</td>\n",
       "      <td>0</td>\n",
       "      <td>0</td>\n",
       "      <td>0</td>\n",
       "      <td>0</td>\n",
       "      <td>0</td>\n",
       "      <td>0</td>\n",
       "      <td>-0.401132</td>\n",
       "    </tr>\n",
       "    <tr>\n",
       "      <th>959</th>\n",
       "      <td>0</td>\n",
       "      <td>0</td>\n",
       "      <td>0</td>\n",
       "      <td>0</td>\n",
       "      <td>0</td>\n",
       "      <td>0</td>\n",
       "      <td>0</td>\n",
       "      <td>0</td>\n",
       "      <td>0</td>\n",
       "      <td>0</td>\n",
       "      <td>...</td>\n",
       "      <td>0</td>\n",
       "      <td>0</td>\n",
       "      <td>0</td>\n",
       "      <td>1</td>\n",
       "      <td>0</td>\n",
       "      <td>0</td>\n",
       "      <td>0</td>\n",
       "      <td>0</td>\n",
       "      <td>0</td>\n",
       "      <td>-0.050877</td>\n",
       "    </tr>\n",
       "    <tr>\n",
       "      <th>98518</th>\n",
       "      <td>0</td>\n",
       "      <td>0</td>\n",
       "      <td>0</td>\n",
       "      <td>0</td>\n",
       "      <td>1</td>\n",
       "      <td>0</td>\n",
       "      <td>0</td>\n",
       "      <td>0</td>\n",
       "      <td>0</td>\n",
       "      <td>0</td>\n",
       "      <td>...</td>\n",
       "      <td>0</td>\n",
       "      <td>0</td>\n",
       "      <td>0</td>\n",
       "      <td>0</td>\n",
       "      <td>0</td>\n",
       "      <td>0</td>\n",
       "      <td>0</td>\n",
       "      <td>0</td>\n",
       "      <td>0</td>\n",
       "      <td>0.053338</td>\n",
       "    </tr>\n",
       "    <tr>\n",
       "      <th>98914</th>\n",
       "      <td>0</td>\n",
       "      <td>0</td>\n",
       "      <td>0</td>\n",
       "      <td>0</td>\n",
       "      <td>0</td>\n",
       "      <td>0</td>\n",
       "      <td>0</td>\n",
       "      <td>0</td>\n",
       "      <td>0</td>\n",
       "      <td>0</td>\n",
       "      <td>...</td>\n",
       "      <td>0</td>\n",
       "      <td>0</td>\n",
       "      <td>0</td>\n",
       "      <td>0</td>\n",
       "      <td>0</td>\n",
       "      <td>0</td>\n",
       "      <td>0</td>\n",
       "      <td>0</td>\n",
       "      <td>0</td>\n",
       "      <td>0.558304</td>\n",
       "    </tr>\n",
       "  </tbody>\n",
       "</table>\n",
       "<p>110249 rows × 90 columns</p>\n",
       "</div>"
      ],
      "text/plain": [
       "         Abbey Dubbel  Abbey Tripel  Abt/Quadrupel  Altbier  Amber Ale  \\\n",
       "beer_id                                                                  \n",
       "63836               0             0              0        0          0   \n",
       "71716               0             0              0        0          0   \n",
       "64125               0             0              0        0          0   \n",
       "31544               0             0              0        0          0   \n",
       "71714               0             0              0        0          0   \n",
       "...               ...           ...            ...      ...        ...   \n",
       "25876               0             0              0        0          0   \n",
       "958                 0             0              0        0          0   \n",
       "959                 0             0              0        0          0   \n",
       "98518               0             0              0        0          1   \n",
       "98914               0             0              0        0          0   \n",
       "\n",
       "         American Dark Lager  American Pale Ale  American Strong Ale  \\\n",
       "beer_id                                                                \n",
       "63836                      0                  0                    0   \n",
       "71716                      0                  0                    0   \n",
       "64125                      0                  0                    0   \n",
       "31544                      0                  0                    0   \n",
       "71714                      0                  0                    0   \n",
       "...                      ...                ...                  ...   \n",
       "25876                      0                  0                    0   \n",
       "958                        0                  0                    0   \n",
       "959                        0                  0                    0   \n",
       "98518                      0                  0                    0   \n",
       "98914                      0                  0                    0   \n",
       "\n",
       "         Baltic Porter  Barley Wine  ...  Spice/Herb/Vegetable  Stout  \\\n",
       "beer_id                              ...                                \n",
       "63836                0            0  ...                     0      0   \n",
       "71716                0            0  ...                     0      0   \n",
       "64125                0            0  ...                     0      0   \n",
       "31544                0            0  ...                     0      0   \n",
       "71714                0            0  ...                     0      0   \n",
       "...                ...          ...  ...                   ...    ...   \n",
       "25876                0            0  ...                     0      0   \n",
       "958                  0            0  ...                     0      0   \n",
       "959                  0            0  ...                     0      0   \n",
       "98518                0            0  ...                     0      0   \n",
       "98914                0            0  ...                     0      0   \n",
       "\n",
       "         Strong Pale Lager/Imperial Pils  Sweet Stout  Traditional Ale  \\\n",
       "beer_id                                                                  \n",
       "63836                                  0            0                0   \n",
       "71716                                  0            0                0   \n",
       "64125                                  0            0                0   \n",
       "31544                                  0            1                0   \n",
       "71714                                  0            0                0   \n",
       "...                                  ...          ...              ...   \n",
       "25876                                  0            0                0   \n",
       "958                                    0            0                0   \n",
       "959                                    0            1                0   \n",
       "98518                                  0            0                0   \n",
       "98914                                  0            0                0   \n",
       "\n",
       "         Vienna  Weizen Bock  Wheat Ale  Zwickel/Keller/Landbier  beer_abv  \n",
       "beer_id                                                                     \n",
       "63836         0            0          0                        0 -0.249642  \n",
       "71716         0            0          0                        0 -0.451629  \n",
       "64125         0            0          0                        0 -0.249642  \n",
       "31544         0            0          0                        0 -0.050877  \n",
       "71714         0            0          0                        0 -0.210633  \n",
       "...         ...          ...        ...                      ...       ...  \n",
       "25876         0            0          0                        0 -0.199146  \n",
       "958           0            0          0                        0 -0.401132  \n",
       "959           0            0          0                        0 -0.050877  \n",
       "98518         0            0          0                        0  0.053338  \n",
       "98914         0            0          0                        0  0.558304  \n",
       "\n",
       "[110249 rows x 90 columns]"
      ]
     },
     "execution_count": 196,
     "metadata": {},
     "output_type": "execute_result"
    }
   ],
   "source": [
    "beer_features = pd.get_dummies(metadata_transformed[\"beer_style\"])\n",
    "beer_features[\"beer_id\"] = metadata_transformed[\"beer_id\"]\n",
    "beer_features[\"beer_abv\"] = metadata_transformed.groupby('beer_style')[[\"beer_abv\"]].transform(lambda group: group.fillna(group.mean()))\n",
    "min_max_scaler = StandardScaler()\n",
    "beer_features[\"beer_abv\"] = min_max_scaler.fit_transform(beer_features[[\"beer_abv\"]])\n",
    "beer_features.set_index(\"beer_id\", inplace=True)\n",
    "beer_features"
   ]
  },
  {
   "cell_type": "code",
   "execution_count": 197,
   "metadata": {
    "tags": []
   },
   "outputs": [],
   "source": [
    "beer_generator = beer_features.itertuples(index=True, name=None)\n",
    "beer_dataset = lfmDataset()\n",
    "beer_dataset.fit(data_train['user_name'], data_train[\"beer_id\"], item_features=beer_generator)"
   ]
  },
  {
   "cell_type": "code",
   "execution_count": 205,
   "metadata": {
    "tags": []
   },
   "outputs": [],
   "source": [
    "item_features = beer_dataset.build_item_features(beer_generator)\n",
    "(interactions, weights) = beer_dataset.build_interactions((row for row in data_train.values))"
   ]
  },
  {
   "cell_type": "code",
   "execution_count": 206,
   "metadata": {
    "tags": []
   },
   "outputs": [
    {
     "data": {
      "text/plain": [
       "<lightfm.lightfm.LightFM at 0x7f2e97f8d790>"
      ]
     },
     "execution_count": 206,
     "metadata": {},
     "output_type": "execute_result"
    }
   ],
   "source": [
    "content_model = LightFM(loss='warp')\n",
    "content_model.fit(interactions, item_features=item_features)"
   ]
  },
  {
   "cell_type": "code",
   "execution_count": 208,
   "metadata": {
    "tags": []
   },
   "outputs": [
    {
     "name": "stdout",
     "output_type": "stream",
     "text": [
      "Recommendations were saved on file content_recommendations_VAL.csv.\n"
     ]
    }
   ],
   "source": [
    "content_reco_val = lightFM_recommendations(beer_dataset,\n",
    "                                           content_model,\n",
    "                                           users_val,\n",
    "                                           non_pers_recommendations,\n",
    "                                           k_top=k_top,\n",
    "                                           item_features = item_features)\n",
    "save_recommendations(content_reco_val, \"content_recommendations_VAL\")"
   ]
  },
  {
   "cell_type": "code",
   "execution_count": 209,
   "metadata": {
    "tags": []
   },
   "outputs": [
    {
     "data": {
      "text/plain": [
       "3.3945714014148574e-07"
      ]
     },
     "execution_count": 209,
     "metadata": {},
     "output_type": "execute_result"
    }
   ],
   "source": [
    "evaluate_solution('content_recommendations_VAL', 'validation_recommendations')"
   ]
  },
  {
   "cell_type": "code",
   "execution_count": null,
   "metadata": {},
   "outputs": [],
   "source": []
  },
  {
   "cell_type": "code",
   "execution_count": null,
   "metadata": {},
   "outputs": [],
   "source": []
  },
  {
   "cell_type": "code",
   "execution_count": null,
   "metadata": {},
   "outputs": [],
   "source": []
  },
  {
   "cell_type": "markdown",
   "metadata": {},
   "source": [
    "## Evaluate results (Again)\n",
    "- Calculate the evaluation metric on the validation users."
   ]
  },
  {
   "cell_type": "code",
   "execution_count": null,
   "metadata": {},
   "outputs": [],
   "source": [
    "# YOUR CODE HERE"
   ]
  },
  {
   "cell_type": "markdown",
   "metadata": {},
   "source": [
    "## Content-based Recommendations\n",
    "\n",
    "- Compute the item similarities matrix.\n",
    "- Predict ratings.\n",
    "- Select the best recommendations.\n",
    "- Submit recommendations."
   ]
  },
  {
   "cell_type": "code",
   "execution_count": null,
   "metadata": {},
   "outputs": [],
   "source": [
    "# YOUR CODE HERE"
   ]
  },
  {
   "cell_type": "markdown",
   "metadata": {},
   "source": [
    "## Evaluate results (Yet again)\n",
    "- Calculate the evaluation metric on the validation users."
   ]
  },
  {
   "cell_type": "code",
   "execution_count": null,
   "metadata": {},
   "outputs": [],
   "source": [
    "# YOUR CODE HERE"
   ]
  },
  {
   "cell_type": "markdown",
   "metadata": {},
   "source": [
    "## Potential improvements\n",
    "\n",
    "At this point you can try to improve your prediction using several approaches:\n",
    "- Aggregation of ratings from different sources. \n",
    "- Mixing Collaborative Filtering and Content-based Recommendations.\n",
    "- Matrix Factorization.\n",
    "- Could you use a classification or regression models to predict users' preference? 🤔"
   ]
  },
  {
   "cell_type": "code",
   "execution_count": null,
   "metadata": {},
   "outputs": [],
   "source": [
    "# YOUR CODE HERE"
   ]
  }
 ],
 "metadata": {
  "kernelspec": {
   "display_name": "Python 3 (ipykernel)",
   "language": "python",
   "name": "python3"
  },
  "language_info": {
   "codemirror_mode": {
    "name": "ipython",
    "version": 3
   },
   "file_extension": ".py",
   "mimetype": "text/x-python",
   "name": "python",
   "nbconvert_exporter": "python",
   "pygments_lexer": "ipython3",
   "version": "3.8.16"
  }
 },
 "nbformat": 4,
 "nbformat_minor": 4
}
