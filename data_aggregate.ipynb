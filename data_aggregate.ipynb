{
 "cells": [
  {
   "cell_type": "code",
   "execution_count": 21,
   "metadata": {},
   "outputs": [],
   "source": [
    "import pandas as pd"
   ]
  },
  {
   "cell_type": "code",
   "execution_count": 22,
   "metadata": {},
   "outputs": [
    {
     "name": "stderr",
     "output_type": "stream",
     "text": [
      "/tmp/ipykernel_4532/2049522563.py:1: DtypeWarning: Columns (0) have mixed types. Specify dtype option on import or set low_memory=False.\n",
      "  data = pd.read_csv('data/train_ratings.csv')\n"
     ]
    }
   ],
   "source": [
    "data = pd.read_csv('data/train_ratings.csv')"
   ]
  },
  {
   "cell_type": "code",
   "execution_count": 23,
   "metadata": {},
   "outputs": [],
   "source": [
    "data['beer_id'] = pd.to_numeric(data['beer_id'], errors='coerce')"
   ]
  },
  {
   "cell_type": "code",
   "execution_count": 24,
   "metadata": {},
   "outputs": [],
   "source": [
    "data = data.dropna()"
   ]
  },
  {
   "cell_type": "code",
   "execution_count": 25,
   "metadata": {},
   "outputs": [],
   "source": [
    "data['beer_id'] = data['beer_id'].astype(int)"
   ]
  },
  {
   "cell_type": "code",
   "execution_count": 26,
   "metadata": {},
   "outputs": [
    {
     "data": {
      "text/html": [
       "<div>\n",
       "<style scoped>\n",
       "    .dataframe tbody tr th:only-of-type {\n",
       "        vertical-align: middle;\n",
       "    }\n",
       "\n",
       "    .dataframe tbody tr th {\n",
       "        vertical-align: top;\n",
       "    }\n",
       "\n",
       "    .dataframe thead th {\n",
       "        text-align: right;\n",
       "    }\n",
       "</style>\n",
       "<table border=\"1\" class=\"dataframe\">\n",
       "  <thead>\n",
       "    <tr style=\"text-align: right;\">\n",
       "      <th></th>\n",
       "      <th>beer_id</th>\n",
       "      <th>user_name</th>\n",
       "      <th>review_score</th>\n",
       "      <th>review_time</th>\n",
       "    </tr>\n",
       "  </thead>\n",
       "  <tbody>\n",
       "    <tr>\n",
       "      <th>0</th>\n",
       "      <td>63836</td>\n",
       "      <td>hopdog</td>\n",
       "      <td>13/20</td>\n",
       "      <td>1157587200</td>\n",
       "    </tr>\n",
       "    <tr>\n",
       "      <th>1</th>\n",
       "      <td>63836</td>\n",
       "      <td>TomDecapolis</td>\n",
       "      <td>13/20</td>\n",
       "      <td>1157241600</td>\n",
       "    </tr>\n",
       "    <tr>\n",
       "      <th>2</th>\n",
       "      <td>71716</td>\n",
       "      <td>PhillyBeer2112</td>\n",
       "      <td>14/20</td>\n",
       "      <td>958694400</td>\n",
       "    </tr>\n",
       "    <tr>\n",
       "      <th>3</th>\n",
       "      <td>64125</td>\n",
       "      <td>TomDecapolis</td>\n",
       "      <td>8/20</td>\n",
       "      <td>1157587200</td>\n",
       "    </tr>\n",
       "    <tr>\n",
       "      <th>4</th>\n",
       "      <td>64125</td>\n",
       "      <td>hopdog</td>\n",
       "      <td>8/20</td>\n",
       "      <td>1157587200</td>\n",
       "    </tr>\n",
       "    <tr>\n",
       "      <th>...</th>\n",
       "      <td>...</td>\n",
       "      <td>...</td>\n",
       "      <td>...</td>\n",
       "      <td>...</td>\n",
       "    </tr>\n",
       "    <tr>\n",
       "      <th>2838369</th>\n",
       "      <td>98518</td>\n",
       "      <td>Snojerk321</td>\n",
       "      <td>11/20</td>\n",
       "      <td>1233964800</td>\n",
       "    </tr>\n",
       "    <tr>\n",
       "      <th>2838370</th>\n",
       "      <td>98518</td>\n",
       "      <td>troopie</td>\n",
       "      <td>13/20</td>\n",
       "      <td>1233446400</td>\n",
       "    </tr>\n",
       "    <tr>\n",
       "      <th>2838371</th>\n",
       "      <td>98518</td>\n",
       "      <td>Reid</td>\n",
       "      <td>14/20</td>\n",
       "      <td>1233360000</td>\n",
       "    </tr>\n",
       "    <tr>\n",
       "      <th>2838372</th>\n",
       "      <td>98518</td>\n",
       "      <td>boFNjackson</td>\n",
       "      <td>14/20</td>\n",
       "      <td>1233100800</td>\n",
       "    </tr>\n",
       "    <tr>\n",
       "      <th>2838373</th>\n",
       "      <td>98914</td>\n",
       "      <td>boFNjackson</td>\n",
       "      <td>15/20</td>\n",
       "      <td>1233964800</td>\n",
       "    </tr>\n",
       "  </tbody>\n",
       "</table>\n",
       "<p>2838334 rows × 4 columns</p>\n",
       "</div>"
      ],
      "text/plain": [
       "         beer_id       user_name review_score  review_time\n",
       "0          63836          hopdog        13/20   1157587200\n",
       "1          63836    TomDecapolis        13/20   1157241600\n",
       "2          71716  PhillyBeer2112        14/20    958694400\n",
       "3          64125    TomDecapolis         8/20   1157587200\n",
       "4          64125          hopdog         8/20   1157587200\n",
       "...          ...             ...          ...          ...\n",
       "2838369    98518      Snojerk321        11/20   1233964800\n",
       "2838370    98518         troopie        13/20   1233446400\n",
       "2838371    98518            Reid        14/20   1233360000\n",
       "2838372    98518     boFNjackson        14/20   1233100800\n",
       "2838373    98914     boFNjackson        15/20   1233964800\n",
       "\n",
       "[2838334 rows x 4 columns]"
      ]
     },
     "execution_count": 26,
     "metadata": {},
     "output_type": "execute_result"
    }
   ],
   "source": [
    "data "
   ]
  },
  {
   "cell_type": "code",
   "execution_count": 27,
   "metadata": {},
   "outputs": [],
   "source": [
    "user_data = pd.read_csv('data/test_users.csv').reset_index().rename(columns={'index': 'user_id'})"
   ]
  },
  {
   "cell_type": "code",
   "execution_count": 28,
   "metadata": {},
   "outputs": [],
   "source": [
    "data_w_user_id = pd.merge(data, user_data, on='user_name')"
   ]
  },
  {
   "cell_type": "code",
   "execution_count": 29,
   "metadata": {},
   "outputs": [
    {
     "data": {
      "text/html": [
       "<div>\n",
       "<style scoped>\n",
       "    .dataframe tbody tr th:only-of-type {\n",
       "        vertical-align: middle;\n",
       "    }\n",
       "\n",
       "    .dataframe tbody tr th {\n",
       "        vertical-align: top;\n",
       "    }\n",
       "\n",
       "    .dataframe thead th {\n",
       "        text-align: right;\n",
       "    }\n",
       "</style>\n",
       "<table border=\"1\" class=\"dataframe\">\n",
       "  <thead>\n",
       "    <tr style=\"text-align: right;\">\n",
       "      <th></th>\n",
       "      <th>beer_id</th>\n",
       "      <th>user_name</th>\n",
       "      <th>review_score</th>\n",
       "      <th>review_time</th>\n",
       "      <th>user_id</th>\n",
       "    </tr>\n",
       "  </thead>\n",
       "  <tbody>\n",
       "    <tr>\n",
       "      <th>0</th>\n",
       "      <td>63836</td>\n",
       "      <td>hopdog</td>\n",
       "      <td>13/20</td>\n",
       "      <td>1157587200</td>\n",
       "      <td>325</td>\n",
       "    </tr>\n",
       "    <tr>\n",
       "      <th>1</th>\n",
       "      <td>64125</td>\n",
       "      <td>hopdog</td>\n",
       "      <td>8/20</td>\n",
       "      <td>1157587200</td>\n",
       "      <td>325</td>\n",
       "    </tr>\n",
       "    <tr>\n",
       "      <th>2</th>\n",
       "      <td>71714</td>\n",
       "      <td>hopdog</td>\n",
       "      <td>12/20</td>\n",
       "      <td>1176076800</td>\n",
       "      <td>325</td>\n",
       "    </tr>\n",
       "    <tr>\n",
       "      <th>3</th>\n",
       "      <td>64126</td>\n",
       "      <td>hopdog</td>\n",
       "      <td>9/20</td>\n",
       "      <td>1157587200</td>\n",
       "      <td>325</td>\n",
       "    </tr>\n",
       "    <tr>\n",
       "      <th>4</th>\n",
       "      <td>77833</td>\n",
       "      <td>hopdog</td>\n",
       "      <td>14/20</td>\n",
       "      <td>1220400000</td>\n",
       "      <td>325</td>\n",
       "    </tr>\n",
       "    <tr>\n",
       "      <th>...</th>\n",
       "      <td>...</td>\n",
       "      <td>...</td>\n",
       "      <td>...</td>\n",
       "      <td>...</td>\n",
       "      <td>...</td>\n",
       "    </tr>\n",
       "    <tr>\n",
       "      <th>1439889</th>\n",
       "      <td>154043</td>\n",
       "      <td>DesertDevil</td>\n",
       "      <td>16/20</td>\n",
       "      <td>1325030400</td>\n",
       "      <td>1625</td>\n",
       "    </tr>\n",
       "    <tr>\n",
       "      <th>1439890</th>\n",
       "      <td>15648</td>\n",
       "      <td>Saurononline</td>\n",
       "      <td>15/20</td>\n",
       "      <td>1325116800</td>\n",
       "      <td>150</td>\n",
       "    </tr>\n",
       "    <tr>\n",
       "      <th>1439891</th>\n",
       "      <td>15647</td>\n",
       "      <td>Saurononline</td>\n",
       "      <td>17/20</td>\n",
       "      <td>1325116800</td>\n",
       "      <td>150</td>\n",
       "    </tr>\n",
       "    <tr>\n",
       "      <th>1439892</th>\n",
       "      <td>80183</td>\n",
       "      <td>Ogre_Dad</td>\n",
       "      <td>15/20</td>\n",
       "      <td>1271808000</td>\n",
       "      <td>1728</td>\n",
       "    </tr>\n",
       "    <tr>\n",
       "      <th>1439893</th>\n",
       "      <td>46</td>\n",
       "      <td>Dr_Butty</td>\n",
       "      <td>14/20</td>\n",
       "      <td>1306195200</td>\n",
       "      <td>1518</td>\n",
       "    </tr>\n",
       "  </tbody>\n",
       "</table>\n",
       "<p>1439894 rows × 5 columns</p>\n",
       "</div>"
      ],
      "text/plain": [
       "         beer_id     user_name review_score  review_time  user_id\n",
       "0          63836        hopdog        13/20   1157587200      325\n",
       "1          64125        hopdog         8/20   1157587200      325\n",
       "2          71714        hopdog        12/20   1176076800      325\n",
       "3          64126        hopdog         9/20   1157587200      325\n",
       "4          77833        hopdog        14/20   1220400000      325\n",
       "...          ...           ...          ...          ...      ...\n",
       "1439889   154043   DesertDevil        16/20   1325030400     1625\n",
       "1439890    15648  Saurononline        15/20   1325116800      150\n",
       "1439891    15647  Saurononline        17/20   1325116800      150\n",
       "1439892    80183      Ogre_Dad        15/20   1271808000     1728\n",
       "1439893       46      Dr_Butty        14/20   1306195200     1518\n",
       "\n",
       "[1439894 rows x 5 columns]"
      ]
     },
     "execution_count": 29,
     "metadata": {},
     "output_type": "execute_result"
    }
   ],
   "source": [
    "data_w_user_id"
   ]
  },
  {
   "cell_type": "code",
   "execution_count": 30,
   "metadata": {},
   "outputs": [],
   "source": [
    "beer_data = pd.read_csv('data/beer_metadata.csv')"
   ]
  },
  {
   "cell_type": "code",
   "execution_count": 31,
   "metadata": {},
   "outputs": [],
   "source": [
    "beer_data['beer_id'] = pd.to_numeric(beer_data['beer_id'], errors='coerce')"
   ]
  },
  {
   "cell_type": "code",
   "execution_count": 32,
   "metadata": {},
   "outputs": [],
   "source": [
    "beer_data = beer_data.dropna()"
   ]
  },
  {
   "cell_type": "code",
   "execution_count": 33,
   "metadata": {},
   "outputs": [],
   "source": [
    "beer_data['beer_id'] = beer_data['beer_id'].astype(int)"
   ]
  },
  {
   "cell_type": "code",
   "execution_count": 34,
   "metadata": {},
   "outputs": [
    {
     "data": {
      "text/html": [
       "<div>\n",
       "<style scoped>\n",
       "    .dataframe tbody tr th:only-of-type {\n",
       "        vertical-align: middle;\n",
       "    }\n",
       "\n",
       "    .dataframe tbody tr th {\n",
       "        vertical-align: top;\n",
       "    }\n",
       "\n",
       "    .dataframe thead th {\n",
       "        text-align: right;\n",
       "    }\n",
       "</style>\n",
       "<table border=\"1\" class=\"dataframe\">\n",
       "  <thead>\n",
       "    <tr style=\"text-align: right;\">\n",
       "      <th></th>\n",
       "      <th>beer_id</th>\n",
       "      <th>beer_name</th>\n",
       "      <th>brewer_id</th>\n",
       "      <th>beer_abv</th>\n",
       "      <th>beer_style</th>\n",
       "    </tr>\n",
       "  </thead>\n",
       "  <tbody>\n",
       "    <tr>\n",
       "      <th>0</th>\n",
       "      <td>63836</td>\n",
       "      <td>John Harvards Simcoe IPA</td>\n",
       "      <td>8481</td>\n",
       "      <td>5.4</td>\n",
       "      <td>India Pale Ale &amp;#40;IPA&amp;#41;</td>\n",
       "    </tr>\n",
       "    <tr>\n",
       "      <th>1</th>\n",
       "      <td>71716</td>\n",
       "      <td>John Harvards Cristal Pilsner</td>\n",
       "      <td>8481</td>\n",
       "      <td>5</td>\n",
       "      <td>Bohemian Pilsener</td>\n",
       "    </tr>\n",
       "    <tr>\n",
       "      <th>2</th>\n",
       "      <td>64125</td>\n",
       "      <td>John Harvards Fancy Lawnmower Beer</td>\n",
       "      <td>8481</td>\n",
       "      <td>5.4</td>\n",
       "      <td>Klsch</td>\n",
       "    </tr>\n",
       "    <tr>\n",
       "      <th>3</th>\n",
       "      <td>31544</td>\n",
       "      <td>John Harvards Vanilla Black Velvet Stout</td>\n",
       "      <td>8481</td>\n",
       "      <td>-</td>\n",
       "      <td>Sweet Stout</td>\n",
       "    </tr>\n",
       "    <tr>\n",
       "      <th>4</th>\n",
       "      <td>71714</td>\n",
       "      <td>John Harvards American Brown Ale</td>\n",
       "      <td>8481</td>\n",
       "      <td>-</td>\n",
       "      <td>Brown Ale</td>\n",
       "    </tr>\n",
       "    <tr>\n",
       "      <th>...</th>\n",
       "      <td>...</td>\n",
       "      <td>...</td>\n",
       "      <td>...</td>\n",
       "      <td>...</td>\n",
       "      <td>...</td>\n",
       "    </tr>\n",
       "    <tr>\n",
       "      <th>112045</th>\n",
       "      <td>958</td>\n",
       "      <td>Pyramid Best Brown</td>\n",
       "      <td>154</td>\n",
       "      <td>5.1</td>\n",
       "      <td>Brown Ale</td>\n",
       "    </tr>\n",
       "    <tr>\n",
       "      <th>112046</th>\n",
       "      <td>959</td>\n",
       "      <td>Pyramid Espresso Stout</td>\n",
       "      <td>154</td>\n",
       "      <td>-</td>\n",
       "      <td>Sweet Stout</td>\n",
       "    </tr>\n",
       "    <tr>\n",
       "      <th>112047</th>\n",
       "      <td>98518</td>\n",
       "      <td>Pyramid Rollick Amber Lager</td>\n",
       "      <td>154</td>\n",
       "      <td>6</td>\n",
       "      <td>Amber Ale</td>\n",
       "    </tr>\n",
       "    <tr>\n",
       "      <th>112048</th>\n",
       "      <td>98914</td>\n",
       "      <td>Pyramid Snow Cap&amp;#40;&amp;#8217;n &amp; Tennille&amp;#41;</td>\n",
       "      <td>154</td>\n",
       "      <td>7</td>\n",
       "      <td>English Strong Ale</td>\n",
       "    </tr>\n",
       "    <tr>\n",
       "      <th>112049</th>\n",
       "      <td>29160</td>\n",
       "      <td>Buffalo Bills Orange Blossom Cream Ale</td>\n",
       "      <td>154</td>\n",
       "      <td>5.2</td>\n",
       "      <td>Fruit Beer</td>\n",
       "    </tr>\n",
       "  </tbody>\n",
       "</table>\n",
       "<p>112045 rows × 5 columns</p>\n",
       "</div>"
      ],
      "text/plain": [
       "        beer_id                                      beer_name  brewer_id  \\\n",
       "0         63836                       John Harvards Simcoe IPA       8481   \n",
       "1         71716                  John Harvards Cristal Pilsner       8481   \n",
       "2         64125             John Harvards Fancy Lawnmower Beer       8481   \n",
       "3         31544       John Harvards Vanilla Black Velvet Stout       8481   \n",
       "4         71714               John Harvards American Brown Ale       8481   \n",
       "...         ...                                            ...        ...   \n",
       "112045      958                             Pyramid Best Brown        154   \n",
       "112046      959                         Pyramid Espresso Stout        154   \n",
       "112047    98518                    Pyramid Rollick Amber Lager        154   \n",
       "112048    98914  Pyramid Snow Cap&#40;&#8217;n & Tennille&#41;        154   \n",
       "112049    29160         Buffalo Bills Orange Blossom Cream Ale        154   \n",
       "\n",
       "       beer_abv                    beer_style  \n",
       "0           5.4  India Pale Ale &#40;IPA&#41;  \n",
       "1             5             Bohemian Pilsener  \n",
       "2           5.4                         Klsch  \n",
       "3             -                   Sweet Stout  \n",
       "4             -                     Brown Ale  \n",
       "...         ...                           ...  \n",
       "112045      5.1                     Brown Ale  \n",
       "112046        -                   Sweet Stout  \n",
       "112047        6                     Amber Ale  \n",
       "112048        7            English Strong Ale  \n",
       "112049      5.2                    Fruit Beer  \n",
       "\n",
       "[112045 rows x 5 columns]"
      ]
     },
     "execution_count": 34,
     "metadata": {},
     "output_type": "execute_result"
    }
   ],
   "source": [
    "beer_data"
   ]
  },
  {
   "cell_type": "code",
   "execution_count": 35,
   "metadata": {},
   "outputs": [],
   "source": [
    "beer_data = beer_data.sort_values(by='beer_abv', ascending=False).drop_duplicates(subset='beer_id').drop(columns='brewer_id')"
   ]
  },
  {
   "cell_type": "code",
   "execution_count": 36,
   "metadata": {},
   "outputs": [],
   "source": [
    "data_complete = pd.merge(data_w_user_id, beer_data, on='beer_id')"
   ]
  },
  {
   "cell_type": "code",
   "execution_count": 37,
   "metadata": {},
   "outputs": [],
   "source": [
    "data_complete = data_complete.drop(columns='review_time')"
   ]
  },
  {
   "cell_type": "code",
   "execution_count": 38,
   "metadata": {},
   "outputs": [],
   "source": [
    "data_complete.to_csv('data/data_agg.csv', index=False)"
   ]
  },
  {
   "cell_type": "code",
   "execution_count": null,
   "metadata": {},
   "outputs": [],
   "source": []
  },
  {
   "cell_type": "code",
   "execution_count": null,
   "metadata": {},
   "outputs": [],
   "source": []
  }
 ],
 "metadata": {
  "kernelspec": {
   "display_name": "h5",
   "language": "python",
   "name": "python3"
  },
  "language_info": {
   "codemirror_mode": {
    "name": "ipython",
    "version": 3
   },
   "file_extension": ".py",
   "mimetype": "text/x-python",
   "name": "python",
   "nbconvert_exporter": "python",
   "pygments_lexer": "ipython3",
   "version": "3.8.16"
  },
  "orig_nbformat": 4,
  "vscode": {
   "interpreter": {
    "hash": "539a0d79f9c4fe5a14aa11f1c8a39a523501d2193e139a24cde2747055c32e01"
   }
  }
 },
 "nbformat": 4,
 "nbformat_minor": 2
}
